{
 "cells": [
  {
   "cell_type": "markdown",
   "id": "67072f19",
   "metadata": {},
   "source": [
    "# CS 236 Project Phase 1: Data Cleaning and EDA"
   ]
  },
  {
   "cell_type": "markdown",
   "id": "b3faa366",
   "metadata": {},
   "source": [
    "Installation\n",
    "\n",
    "```\n",
    "pip install pyspark\n",
    "```\n",
    "\n",
    "We couldn't get PySpark 3 to work on our machines, so we used the latest PySpark 4 instead.\n",
    "We had some issues with the Java version - Java 25 is not supported, so we used Java 21."
   ]
  },
  {
   "cell_type": "code",
   "execution_count": 58,
   "id": "5ba7df4b",
   "metadata": {},
   "outputs": [
    {
     "name": "stdout",
     "output_type": "stream",
     "text": [
      "root\n",
      " |-- hotel: string (nullable = true)\n",
      " |-- booking_status: integer (nullable = true)\n",
      " |-- lead_time: integer (nullable = true)\n",
      " |-- arrival_year: integer (nullable = true)\n",
      " |-- arrival_month: string (nullable = true)\n",
      " |-- arrival_date_week_number: integer (nullable = true)\n",
      " |-- arrival_date_day_of_month: integer (nullable = true)\n",
      " |-- stays_in_weekend_nights: integer (nullable = true)\n",
      " |-- stays_in_week_nights: integer (nullable = true)\n",
      " |-- market_segment_type: string (nullable = true)\n",
      " |-- country: string (nullable = true)\n",
      " |-- avg_price_per_room: double (nullable = true)\n",
      " |-- email: string (nullable = true)\n",
      "\n",
      "root\n",
      " |-- Booking_ID: string (nullable = true)\n",
      " |-- stays_in_weekend_nights: integer (nullable = true)\n",
      " |-- stays_in_week_nights: integer (nullable = true)\n",
      " |-- lead_time: integer (nullable = true)\n",
      " |-- arrival_year: integer (nullable = true)\n",
      " |-- arrival_month: integer (nullable = true)\n",
      " |-- arrival_date: integer (nullable = true)\n",
      " |-- market_segment_type: string (nullable = true)\n",
      " |-- avg_price_per_room: double (nullable = true)\n",
      " |-- booking_status: string (nullable = true)\n",
      "\n"
     ]
    }
   ],
   "source": [
    "from pyspark.sql import SparkSession\n",
    "from pyspark.sql.functions import udf, when, col\n",
    "from pyspark.sql.types import IntegerType\n",
    "\n",
    "spark = SparkSession.builder.getOrCreate()\n",
    "\n",
    "hotel_booking = spark.read.csv(\n",
    "    \"datasets/hotel-booking.csv\",\n",
    "    header=True,\n",
    "    inferSchema=True,\n",
    ")\n",
    "customer_reservations = spark.read.csv(\n",
    "    \"datasets/customer-reservations.csv\",\n",
    "    header=True,\n",
    "    inferSchema=True,\n",
    ")\n",
    "\n",
    "hotel_booking.printSchema()\n",
    "customer_reservations.printSchema()"
   ]
  },
  {
   "cell_type": "markdown",
   "id": "78514782",
   "metadata": {},
   "source": [
    "There are two parts that need to be aligned. We need to rename `arrival_date` to match `arrival_date_day_of_month` and map the booking status from Canceled and Not_Cancelled to 0 and 1."
   ]
  },
  {
   "cell_type": "code",
   "execution_count": 59,
   "id": "2898bac6",
   "metadata": {},
   "outputs": [],
   "source": [
    "customer_reservations = customer_reservations.withColumn(\n",
    "    \"booking_status\", when(col(\"booking_status\") == \"Not_Cancelled\", 1).otherwise(0)\n",
    ").withColumnRenamed(\"arrival_date\", \"arrival_date_day_of_month\")"
   ]
  },
  {
   "cell_type": "markdown",
   "id": "6c245b5c",
   "metadata": {},
   "source": [
    "After we align the two datasets, we can merge them and write to a new file."
   ]
  },
  {
   "cell_type": "code",
   "execution_count": 60,
   "id": "8de16579",
   "metadata": {},
   "outputs": [
    {
     "name": "stdout",
     "output_type": "stream",
     "text": [
      "root\n",
      " |-- Booking_ID: string (nullable = true)\n",
      " |-- stays_in_weekend_nights: integer (nullable = true)\n",
      " |-- stays_in_week_nights: integer (nullable = true)\n",
      " |-- lead_time: integer (nullable = true)\n",
      " |-- arrival_year: integer (nullable = true)\n",
      " |-- arrival_month: integer (nullable = true)\n",
      " |-- arrival_date_day_of_month: integer (nullable = true)\n",
      " |-- market_segment_type: string (nullable = true)\n",
      " |-- avg_price_per_room: double (nullable = true)\n",
      " |-- booking_status: integer (nullable = false)\n",
      "\n"
     ]
    }
   ],
   "source": [
    "customer_reservations.printSchema()\n",
    "\n",
    "# merged_df = hotel_booking.union(customer_reservations)\n",
    "# with open('merged.csv') as f:\n",
    "#     merged_df.write.csv(f, mode='overwrite')"
   ]
  }
 ],
 "metadata": {
  "kernelspec": {
   "display_name": ".venv",
   "language": "python",
   "name": "python3"
  },
  "language_info": {
   "codemirror_mode": {
    "name": "ipython",
    "version": 3
   },
   "file_extension": ".py",
   "mimetype": "text/x-python",
   "name": "python",
   "nbconvert_exporter": "python",
   "pygments_lexer": "ipython3",
   "version": "3.13.8"
  }
 },
 "nbformat": 4,
 "nbformat_minor": 5
}
