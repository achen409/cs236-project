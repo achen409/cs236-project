{
 "cells": [
  {
   "cell_type": "markdown",
   "id": "67072f19",
   "metadata": {},
   "source": [
    "# CS 236 Project Phase 1: Data Cleaning and EDA"
   ]
  },
  {
   "cell_type": "markdown",
   "id": "b3faa366",
   "metadata": {},
   "source": [
    "Installation\n",
    "\n",
    "```\n",
    "pip install pyspark\n",
    "```\n",
    "\n",
    "We couldn't get PySpark 3 to work on our machines, so we used the latest PySpark 4 instead.\n",
    "We had some issues with the Java version - Java 25 is not supported, so we used Java 21."
   ]
  },
  {
   "cell_type": "code",
   "execution_count": 4,
   "id": "5ba7df4b",
   "metadata": {},
   "outputs": [
    {
     "name": "stdout",
     "output_type": "stream",
     "text": [
      "DataFrame[hotel: string, booking_status: string, lead_time: string, arrival_year: string, arrival_month: string, arrival_date_week_number: string, arrival_date_day_of_month: string, stays_in_weekend_nights: string, stays_in_week_nights: string, market_segment_type: string, country: string, avg_price_per_room: string, email: string]\n",
      "DataFrame[Booking_ID: string, stays_in_weekend_nights: string, stays_in_week_nights: string, lead_time: string, arrival_year: string, arrival_month: string, arrival_date: string, market_segment_type: string, avg_price_per_room: string, booking_status: string]\n"
     ]
    }
   ],
   "source": [
    "from pyspark.sql import SparkSession\n",
    "\n",
    "spark = SparkSession.builder.getOrCreate()\n",
    "\n",
    "hotel_booking = spark.read.csv(\"datasets/hotel-booking.csv\", header=True)\n",
    "customer_reservations = spark.read.csv(\n",
    "    \"datasets/customer-reservations.csv\", header=True\n",
    ")\n",
    "\n",
    "print(hotel_booking)\n",
    "print(customer_reservations)"
   ]
  },
  {
   "cell_type": "markdown",
   "id": "78514782",
   "metadata": {},
   "source": [
    "There are two parts that need to be aligned. We need to rename `arrival_date` to match `arrival_date_day_of_month` and map the booking status from Canceled and Not_Cancelled to 0 and 1."
   ]
  },
  {
   "cell_type": "code",
   "execution_count": 5,
   "id": "2898bac6",
   "metadata": {},
   "outputs": [],
   "source": [
    "customer_reservations = customer_reservations.withColumnRenamed(\"arrival_date\", \"arrival_date_day_of_month\")"
   ]
  },
  {
   "cell_type": "markdown",
   "id": "6c245b5c",
   "metadata": {},
   "source": [
    "After we align the two datasets, we can merge them and write to a new file."
   ]
  },
  {
   "cell_type": "code",
   "execution_count": 6,
   "id": "8de16579",
   "metadata": {},
   "outputs": [],
   "source": [
    "# merged_df = hotel_booking.union(customer_reservations)\n",
    "# with open('merged.csv') as f:\n",
    "#     merged_df.write.csv(f, mode='overwrite')"
   ]
  }
 ],
 "metadata": {
  "kernelspec": {
   "display_name": ".venv",
   "language": "python",
   "name": "python3"
  },
  "language_info": {
   "codemirror_mode": {
    "name": "ipython",
    "version": 3
   },
   "file_extension": ".py",
   "mimetype": "text/x-python",
   "name": "python",
   "nbconvert_exporter": "python",
   "pygments_lexer": "ipython3",
   "version": "3.13.8"
  }
 },
 "nbformat": 4,
 "nbformat_minor": 5
}
