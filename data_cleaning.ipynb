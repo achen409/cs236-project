import pandas as pd
# import matplotlib.pyplot as plt
# import plotly

from pyspark.sql import functions as F
from pyspark.sql import SparkSession
from pyspark.sql.functions import udf, when, col, count, expr, lit
from pyspark.sql.types import IntegerType

spark = SparkSession.builder.getOrCreate()

hotel_booking = spark.read.csv(
    "datasets/hotel-booking.csv",
    header=True,
    inferSchema=True,
)
customer_reservations = spark.read.csv(
    "datasets/customer-reservations.csv",
    header=True,
    inferSchema=True,
)

hotel_booking.printSchema()
customer_reservations.printSchema()
customer_reservations.groupBy("arrival_month").agg(count("*").alias("count")).sort("arrival_month").plot.line(x="arrival_month", y="count")
customer_reservations.select("lead_time").plot.hist(column="lead_time")
customer_reservations.groupBy("market_segment_type").agg(count("*").alias("count")).plot.bar(x="market_segment_type", y="count")
customer_reservations.dropna().drop_duplicates()
hotel_booking.printSchema()
customer_reservations.printSchema()

# merged_df = hotel_booking.union(customer_reservations)
# with open('merged.csv') as f:
#     merged_df.write.csv(f, mode='overwrite')
# filter by drop na datapoints and dropping duplicate rows
hotel_booking = hotel_booking.dropna().dropDuplicates()
# dimensionality of data
num_rows = hotel_booking.count()
num_cols = len(hotel_booking.columns)

print(f"Number of Rows: {num_rows}")
print(f"Number of Columns: {num_cols}")
# frequency for hotel column
hotel_counts = hotel_booking.groupBy("hotel").agg(F.count("*").alias("count"))

hotel_counts.plot.bar(x="hotel", y="count")

# # bar chart
# plt.bar(hotel_counts["hotel"], hotel_counts["count"], color="skyblue", edgecolor="black")
# plt.xlabel("Hotel")
# plt.ylabel("Frequency")
# plt.title("Frequency of each Hotel")
# plt.show()

# # frequency table
# print("Frequencies of each hotel:")
# print(hotel_counts)
# frequency for booking status column
booking_status_counts = hotel_booking.groupBy("booking_status").agg(
    F.count("*").alias("count")
)

booking_status_counts.plot.bar(x="booking_status", y="count")

# # bar chart
# plt.bar(booking_status_counts["booking_status"], booking_status_counts["count"], color="lightcoral", edgecolor="black")
# plt.xlabel("Booking Status")
# plt.ylabel("Frequency")
# plt.title("Frequency of each Booking Status")
# plt.show()

# # frequency table
# print("Frequencies of Booking Status:")
# print(booking_status_counts)
# histogram of lead time
lead_time = hotel_booking.select("lead_time")
lead_time.plot.hist(column="lead_time")

# plt.hist(lead_time_pd["lead_time"], bins=10, color="darkorange", edgecolor="black")
# plt.xlabel("Lead Time")
# plt.ylabel("Frequency")
# plt.title("Distribution of Lead Time")

# plt.show()
# summary statistics
lead_time["lead_time"].describe()
# Date time column
arrival_date_counts = (
    hotel_booking
    .groupBy("arrival_year", "arrival_month")
    .agg(F.count("*").alias("count"))
    .orderBy("arrival_year", "arrival_month")  # sort by year and month
).toPandas()

arrival_date_counts["arrival_date"] = pd.to_datetime(
    arrival_date_counts["arrival_year"].astype(str) + "-" +
    arrival_date_counts["arrival_month"].astype(str) + "-01"
)

# Sort by datetime
arrival_date_counts = arrival_date_counts.sort_values("arrival_date")

# time series plot of number of bookings each month
plt.figure(figsize=(12,6))
plt.plot(arrival_date_counts["arrival_date"], arrival_date_counts["count"], marker='o')
plt.xlabel("Arrival Date")
plt.ylabel("Number of Bookings")
plt.title("Bookings Over Time")
plt.grid(True)
plt.show()
# histogram for stays in weekend nights
weekends_pd = hotel_booking.select("stays_in_weekend_nights").toPandas()

plt.hist(weekends_pd["stays_in_weekend_nights"], color="skyblue", edgecolor="black")
plt.xlabel("Stays in Weekend Nights")
plt.ylabel("Frequency")
plt.title("Distribution of Stays in Weekend Nights")

plt.show()
# summary statistics
weekends_pd["stays_in_weekend_nights"].describe()
# histogram for stays in week nights
weekdays_pd = hotel_booking.select("stays_in_week_nights").toPandas()

plt.hist(weekdays_pd["stays_in_week_nights"], color="skyblue", edgecolor="black")
plt.xlabel("Stays in Week Nights")
plt.ylabel("Frequency")
plt.title("Distribution of Stays in Week Nights")

plt.show()
# summary statistics
weekdays_pd["stays_in_week_nights"].describe()
# frequency for market column
market_counts = (
    hotel_booking
    .groupBy("market_segment_type")
    .agg(F.count("*").alias("count"))
    .orderBy(F.desc("count"))
).toPandas()

# bar chart
plt.bar(market_counts["market_segment_type"], market_counts["count"], color="lightcoral", edgecolor="black")
plt.xlabel("Market Type")
plt.ylabel("Frequency")
plt.title("Frequency of each Market Type")
plt.xticks(rotation=45, ha="right")
plt.show()

# frequency table
print("Frequencies of Market Type:")
print(market_counts)
# frequency for market column
country_counts = market_counts = (
    hotel_booking
    .groupBy("country")
    .agg(F.count("*").alias("count"))
    .orderBy(F.desc("count"))
    .limit(10)
).toPandas()

# bar chart
plt.bar(country_counts["country"], country_counts["count"], color="lightcoral", edgecolor="black")
plt.xlabel("Country")
plt.ylabel("Frequency")
plt.title("Frequency of booking in each Country")
plt.xticks(rotation=45, ha="right")
plt.show()

# frequency table
print("Frequencies of booking in each Country:")
print(country_counts)
# histogram of price
price_pd = hotel_booking.select("avg_price_per_room").toPandas()

plt.hist(price_pd["avg_price_per_room"], bins=10, color="skyblue", edgecolor="black")
plt.xlabel("Average Price")
plt.ylabel("Frequency")
plt.title("Distribution of Average Price")

plt.show()
# boxplot of price
plt.boxplot(price_pd["avg_price_per_room"], vert=False)
plt.xlabel("Average Price")
plt.title("Distribution of Average Price")
# summary statistics of price
price_pd["avg_price_per_room"].describe()
# bounds to filter outliers
quantiles = hotel_booking.approxQuantile("avg_price_per_room", [0.25, 0.75], 0.01)
q1 = quantiles[0]
q3 = quantiles[1]
iqr = q3 - q1

lower_bound = q1 - 1.5 * iqr
upper_bound = q3 + 1.5 * iqr

filtered_prices = hotel_booking.filter(
    (F.col("avg_price_per_room") >= lower_bound) &
    (F.col("avg_price_per_room") <= upper_bound)
).select("avg_price_per_room").toPandas()

# histogram of prices w/o big outliers
plt.hist(filtered_prices, bins=10, color="skyblue", edgecolor="black")
plt.xlabel("Average Price")
plt.ylabel("Frequency")
plt.title("Distribution of Average Price (Outliers Removed)")
plt.show()
# boxplot of prices w/o big outliers
plt.boxplot(filtered_prices, vert=False)
plt.xlabel("Average Price")
plt.title("Distribution of Average Price (Outliers Removed)")
# summary statistics w/o big outliers
filtered_prices.describe()
customer_reservations = customer_reservations.withColumnRenamed("arrival_date", "arrival_day")
customer_reservations = customer_reservations.withColumnRenamed("Booking_ID","booking_id")
hotel_booking = hotel_booking.withColumnRenamed("arrival_date_day_of_month", "arrival_day")
# apply mapping
hotel_booking = hotel_booking.withColumn(
    "arrival_month",
    when(col("arrival_month") == "January", 1)
    .when(col("arrival_month") == "Februrary", 2)
    .when(col("arrival_month") == "March", 3)
    .when(col("arrival_month") == "April", 4)
    .when(col("arrival_month") == "May", 5)
    .when(col("arrival_month") == "June", 6)
    .when(col("arrival_month") == "July", 7)
    .when(col("arrival_month") == "August", 8)
    .when(col("arrival_month") == "September", 9)
    .when(col("arrival_month") == "October", 10)
    .when(col("arrival_month") == "November", 11)
    .when(col("arrival_month") == "December", 12)
    .otherwise(None)
)
customer_reservations = customer_reservations.withColumn(
    "booking_status",
    when(col("booking_status") == "Canceled", 0)
    .when(col("booking_status") == "Not_Canceled", 1)
    .otherwise(None)
)
customer_reservations.toPandas().to_csv("phase1_output_datasets\\customer_reservations.csv")
hotel_booking.toPandas().to_csv("phase1_output_datasets\\hotel_booking_cleaned.csv")
# shared cols
selected_col_names = ["stays_in_weekend_nights",
    "stays_in_week_nights",
    "lead_time",
    "arrival_year",
    "arrival_month",
    "arrival_day",
    "market_segment_type",
    "avg_price_per_room",
    "booking_status"]

# select their unique primary identifiers too
customer_reservations = customer_reservations.select(selected_col_names + ["booking_id"])
hotel_booking = hotel_booking.select(selected_col_names + ["email"])

# Add missing columns with null values
hotel_booking = hotel_booking.withColumn("booking_id", lit(None))
customer_reservations = customer_reservations.withColumn("email", lit(None))
merged_df = hotel_booking.unionByName(customer_reservations)
merged_df.toPandas().to_csv("phase1_output_datasets\\all_bookings.csv")
