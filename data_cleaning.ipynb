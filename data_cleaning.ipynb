{
 "cells": [
  {
   "cell_type": "markdown",
   "id": "67072f19",
   "metadata": {},
   "source": [
    "# CS 236 Project Phase 1: Data Cleaning and EDA"
   ]
  },
  {
   "cell_type": "markdown",
   "id": "b3faa366",
   "metadata": {},
   "source": [
    "## Installation\n",
    "\n",
    "We installed the required dependencies using pip.\n",
    "\n",
    "```\n",
    "pip install pyspark pandas plotly nbformat\n",
    "```\n",
    "\n",
    "We couldn't get PySpark 3 to work on our machines, so we used the latest PySpark 4 instead.\n",
    "We also had some issues with the Java version - Java 25 is not supported, so we used Java 21."
   ]
  },
  {
   "cell_type": "markdown",
   "id": "11da9d03",
   "metadata": {},
   "source": [
    "## Customer Reservations Analysis"
   ]
  },
  {
   "cell_type": "code",
   "execution_count": 312,
   "id": "d847d949",
   "metadata": {},
   "outputs": [],
   "source": [
    "import pandas as pd\n",
    "import matplotlib.pyplot as plt\n",
    "import plotly\n",
    "\n",
    "from pyspark.sql import functions as F"
   ]
  },
  {
   "cell_type": "code",
   "execution_count": 313,
   "id": "5ba7df4b",
   "metadata": {},
   "outputs": [
    {
     "name": "stdout",
     "output_type": "stream",
     "text": [
      "root\n",
      " |-- hotel: string (nullable = true)\n",
      " |-- booking_status: integer (nullable = true)\n",
      " |-- lead_time: integer (nullable = true)\n",
      " |-- arrival_year: integer (nullable = true)\n",
      " |-- arrival_month: string (nullable = true)\n",
      " |-- arrival_date_week_number: integer (nullable = true)\n",
      " |-- arrival_date_day_of_month: integer (nullable = true)\n",
      " |-- stays_in_weekend_nights: integer (nullable = true)\n",
      " |-- stays_in_week_nights: integer (nullable = true)\n",
      " |-- market_segment_type: string (nullable = true)\n",
      " |-- country: string (nullable = true)\n",
      " |-- avg_price_per_room: double (nullable = true)\n",
      " |-- email: string (nullable = true)\n",
      "\n",
      "root\n",
      " |-- Booking_ID: string (nullable = true)\n",
      " |-- stays_in_weekend_nights: integer (nullable = true)\n",
      " |-- stays_in_week_nights: integer (nullable = true)\n",
      " |-- lead_time: integer (nullable = true)\n",
      " |-- arrival_year: integer (nullable = true)\n",
      " |-- arrival_month: integer (nullable = true)\n",
      " |-- arrival_date: integer (nullable = true)\n",
      " |-- market_segment_type: string (nullable = true)\n",
      " |-- avg_price_per_room: double (nullable = true)\n",
      " |-- booking_status: string (nullable = true)\n",
      "\n"
     ]
    }
   ],
   "source": [
    "from pyspark.sql import SparkSession\n",
    "from pyspark.sql.functions import udf, when, col, count, expr, lit\n",
    "from pyspark.sql.types import IntegerType\n",
    "\n",
    "spark = SparkSession.builder.getOrCreate()\n",
    "\n",
    "hotel_booking = spark.read.csv(\n",
    "    \"datasets/hotel-booking.csv\",\n",
    "    header=True,\n",
    "    inferSchema=True,\n",
    ")\n",
    "customer_reservations = spark.read.csv(\n",
    "    \"datasets/customer-reservations.csv\",\n",
    "    header=True,\n",
    "    inferSchema=True,\n",
    ")\n",
    "\n",
    "hotel_booking.printSchema()\n",
    "customer_reservations.printSchema()"
   ]
  },
  {
   "cell_type": "markdown",
   "id": "0b7d3b4a",
   "metadata": {},
   "source": [
    "We can do some exploratory data analysis to see what these datasets are like. For instance, we can see which are the most popular months are."
   ]
  },
  {
   "cell_type": "code",
   "execution_count": 314,
   "id": "9fdcceec",
   "metadata": {},
   "outputs": [
    {
     "data": {
      "application/vnd.plotly.v1+json": {
       "config": {
        "plotlyServerURL": "https://plot.ly"
       },
       "data": [
        {
         "hovertemplate": "arrival_month=%{x}<br>count=%{y}<extra></extra>",
         "legendgroup": "",
         "line": {
          "color": "#636efa",
          "dash": "solid"
         },
         "marker": {
          "symbol": "circle"
         },
         "mode": "lines",
         "name": "",
         "orientation": "v",
         "showlegend": false,
         "type": "scatter",
         "x": {
          "bdata": "AQAAAAIAAAADAAAABAAAAAUAAAAGAAAABwAAAAgAAAAJAAAACgAAAAsAAAAMAAAA",
          "dtype": "i4"
         },
         "xaxis": "x",
         "y": {
          "bdata": "9gOoBjYJsAomCoMMaAvlDgMSxRSkC80L",
          "dtype": "i2"
         },
         "yaxis": "y"
        }
       ],
       "layout": {
        "legend": {
         "tracegroupgap": 0
        },
        "margin": {
         "t": 60
        },
        "template": {
         "data": {
          "bar": [
           {
            "error_x": {
             "color": "#2a3f5f"
            },
            "error_y": {
             "color": "#2a3f5f"
            },
            "marker": {
             "line": {
              "color": "#E5ECF6",
              "width": 0.5
             },
             "pattern": {
              "fillmode": "overlay",
              "size": 10,
              "solidity": 0.2
             }
            },
            "type": "bar"
           }
          ],
          "barpolar": [
           {
            "marker": {
             "line": {
              "color": "#E5ECF6",
              "width": 0.5
             },
             "pattern": {
              "fillmode": "overlay",
              "size": 10,
              "solidity": 0.2
             }
            },
            "type": "barpolar"
           }
          ],
          "carpet": [
           {
            "aaxis": {
             "endlinecolor": "#2a3f5f",
             "gridcolor": "white",
             "linecolor": "white",
             "minorgridcolor": "white",
             "startlinecolor": "#2a3f5f"
            },
            "baxis": {
             "endlinecolor": "#2a3f5f",
             "gridcolor": "white",
             "linecolor": "white",
             "minorgridcolor": "white",
             "startlinecolor": "#2a3f5f"
            },
            "type": "carpet"
           }
          ],
          "choropleth": [
           {
            "colorbar": {
             "outlinewidth": 0,
             "ticks": ""
            },
            "type": "choropleth"
           }
          ],
          "contour": [
           {
            "colorbar": {
             "outlinewidth": 0,
             "ticks": ""
            },
            "colorscale": [
             [
              0,
              "#0d0887"
             ],
             [
              0.1111111111111111,
              "#46039f"
             ],
             [
              0.2222222222222222,
              "#7201a8"
             ],
             [
              0.3333333333333333,
              "#9c179e"
             ],
             [
              0.4444444444444444,
              "#bd3786"
             ],
             [
              0.5555555555555556,
              "#d8576b"
             ],
             [
              0.6666666666666666,
              "#ed7953"
             ],
             [
              0.7777777777777778,
              "#fb9f3a"
             ],
             [
              0.8888888888888888,
              "#fdca26"
             ],
             [
              1,
              "#f0f921"
             ]
            ],
            "type": "contour"
           }
          ],
          "contourcarpet": [
           {
            "colorbar": {
             "outlinewidth": 0,
             "ticks": ""
            },
            "type": "contourcarpet"
           }
          ],
          "heatmap": [
           {
            "colorbar": {
             "outlinewidth": 0,
             "ticks": ""
            },
            "colorscale": [
             [
              0,
              "#0d0887"
             ],
             [
              0.1111111111111111,
              "#46039f"
             ],
             [
              0.2222222222222222,
              "#7201a8"
             ],
             [
              0.3333333333333333,
              "#9c179e"
             ],
             [
              0.4444444444444444,
              "#bd3786"
             ],
             [
              0.5555555555555556,
              "#d8576b"
             ],
             [
              0.6666666666666666,
              "#ed7953"
             ],
             [
              0.7777777777777778,
              "#fb9f3a"
             ],
             [
              0.8888888888888888,
              "#fdca26"
             ],
             [
              1,
              "#f0f921"
             ]
            ],
            "type": "heatmap"
           }
          ],
          "histogram": [
           {
            "marker": {
             "pattern": {
              "fillmode": "overlay",
              "size": 10,
              "solidity": 0.2
             }
            },
            "type": "histogram"
           }
          ],
          "histogram2d": [
           {
            "colorbar": {
             "outlinewidth": 0,
             "ticks": ""
            },
            "colorscale": [
             [
              0,
              "#0d0887"
             ],
             [
              0.1111111111111111,
              "#46039f"
             ],
             [
              0.2222222222222222,
              "#7201a8"
             ],
             [
              0.3333333333333333,
              "#9c179e"
             ],
             [
              0.4444444444444444,
              "#bd3786"
             ],
             [
              0.5555555555555556,
              "#d8576b"
             ],
             [
              0.6666666666666666,
              "#ed7953"
             ],
             [
              0.7777777777777778,
              "#fb9f3a"
             ],
             [
              0.8888888888888888,
              "#fdca26"
             ],
             [
              1,
              "#f0f921"
             ]
            ],
            "type": "histogram2d"
           }
          ],
          "histogram2dcontour": [
           {
            "colorbar": {
             "outlinewidth": 0,
             "ticks": ""
            },
            "colorscale": [
             [
              0,
              "#0d0887"
             ],
             [
              0.1111111111111111,
              "#46039f"
             ],
             [
              0.2222222222222222,
              "#7201a8"
             ],
             [
              0.3333333333333333,
              "#9c179e"
             ],
             [
              0.4444444444444444,
              "#bd3786"
             ],
             [
              0.5555555555555556,
              "#d8576b"
             ],
             [
              0.6666666666666666,
              "#ed7953"
             ],
             [
              0.7777777777777778,
              "#fb9f3a"
             ],
             [
              0.8888888888888888,
              "#fdca26"
             ],
             [
              1,
              "#f0f921"
             ]
            ],
            "type": "histogram2dcontour"
           }
          ],
          "mesh3d": [
           {
            "colorbar": {
             "outlinewidth": 0,
             "ticks": ""
            },
            "type": "mesh3d"
           }
          ],
          "parcoords": [
           {
            "line": {
             "colorbar": {
              "outlinewidth": 0,
              "ticks": ""
             }
            },
            "type": "parcoords"
           }
          ],
          "pie": [
           {
            "automargin": true,
            "type": "pie"
           }
          ],
          "scatter": [
           {
            "fillpattern": {
             "fillmode": "overlay",
             "size": 10,
             "solidity": 0.2
            },
            "type": "scatter"
           }
          ],
          "scatter3d": [
           {
            "line": {
             "colorbar": {
              "outlinewidth": 0,
              "ticks": ""
             }
            },
            "marker": {
             "colorbar": {
              "outlinewidth": 0,
              "ticks": ""
             }
            },
            "type": "scatter3d"
           }
          ],
          "scattercarpet": [
           {
            "marker": {
             "colorbar": {
              "outlinewidth": 0,
              "ticks": ""
             }
            },
            "type": "scattercarpet"
           }
          ],
          "scattergeo": [
           {
            "marker": {
             "colorbar": {
              "outlinewidth": 0,
              "ticks": ""
             }
            },
            "type": "scattergeo"
           }
          ],
          "scattergl": [
           {
            "marker": {
             "colorbar": {
              "outlinewidth": 0,
              "ticks": ""
             }
            },
            "type": "scattergl"
           }
          ],
          "scattermap": [
           {
            "marker": {
             "colorbar": {
              "outlinewidth": 0,
              "ticks": ""
             }
            },
            "type": "scattermap"
           }
          ],
          "scattermapbox": [
           {
            "marker": {
             "colorbar": {
              "outlinewidth": 0,
              "ticks": ""
             }
            },
            "type": "scattermapbox"
           }
          ],
          "scatterpolar": [
           {
            "marker": {
             "colorbar": {
              "outlinewidth": 0,
              "ticks": ""
             }
            },
            "type": "scatterpolar"
           }
          ],
          "scatterpolargl": [
           {
            "marker": {
             "colorbar": {
              "outlinewidth": 0,
              "ticks": ""
             }
            },
            "type": "scatterpolargl"
           }
          ],
          "scatterternary": [
           {
            "marker": {
             "colorbar": {
              "outlinewidth": 0,
              "ticks": ""
             }
            },
            "type": "scatterternary"
           }
          ],
          "surface": [
           {
            "colorbar": {
             "outlinewidth": 0,
             "ticks": ""
            },
            "colorscale": [
             [
              0,
              "#0d0887"
             ],
             [
              0.1111111111111111,
              "#46039f"
             ],
             [
              0.2222222222222222,
              "#7201a8"
             ],
             [
              0.3333333333333333,
              "#9c179e"
             ],
             [
              0.4444444444444444,
              "#bd3786"
             ],
             [
              0.5555555555555556,
              "#d8576b"
             ],
             [
              0.6666666666666666,
              "#ed7953"
             ],
             [
              0.7777777777777778,
              "#fb9f3a"
             ],
             [
              0.8888888888888888,
              "#fdca26"
             ],
             [
              1,
              "#f0f921"
             ]
            ],
            "type": "surface"
           }
          ],
          "table": [
           {
            "cells": {
             "fill": {
              "color": "#EBF0F8"
             },
             "line": {
              "color": "white"
             }
            },
            "header": {
             "fill": {
              "color": "#C8D4E3"
             },
             "line": {
              "color": "white"
             }
            },
            "type": "table"
           }
          ]
         },
         "layout": {
          "annotationdefaults": {
           "arrowcolor": "#2a3f5f",
           "arrowhead": 0,
           "arrowwidth": 1
          },
          "autotypenumbers": "strict",
          "coloraxis": {
           "colorbar": {
            "outlinewidth": 0,
            "ticks": ""
           }
          },
          "colorscale": {
           "diverging": [
            [
             0,
             "#8e0152"
            ],
            [
             0.1,
             "#c51b7d"
            ],
            [
             0.2,
             "#de77ae"
            ],
            [
             0.3,
             "#f1b6da"
            ],
            [
             0.4,
             "#fde0ef"
            ],
            [
             0.5,
             "#f7f7f7"
            ],
            [
             0.6,
             "#e6f5d0"
            ],
            [
             0.7,
             "#b8e186"
            ],
            [
             0.8,
             "#7fbc41"
            ],
            [
             0.9,
             "#4d9221"
            ],
            [
             1,
             "#276419"
            ]
           ],
           "sequential": [
            [
             0,
             "#0d0887"
            ],
            [
             0.1111111111111111,
             "#46039f"
            ],
            [
             0.2222222222222222,
             "#7201a8"
            ],
            [
             0.3333333333333333,
             "#9c179e"
            ],
            [
             0.4444444444444444,
             "#bd3786"
            ],
            [
             0.5555555555555556,
             "#d8576b"
            ],
            [
             0.6666666666666666,
             "#ed7953"
            ],
            [
             0.7777777777777778,
             "#fb9f3a"
            ],
            [
             0.8888888888888888,
             "#fdca26"
            ],
            [
             1,
             "#f0f921"
            ]
           ],
           "sequentialminus": [
            [
             0,
             "#0d0887"
            ],
            [
             0.1111111111111111,
             "#46039f"
            ],
            [
             0.2222222222222222,
             "#7201a8"
            ],
            [
             0.3333333333333333,
             "#9c179e"
            ],
            [
             0.4444444444444444,
             "#bd3786"
            ],
            [
             0.5555555555555556,
             "#d8576b"
            ],
            [
             0.6666666666666666,
             "#ed7953"
            ],
            [
             0.7777777777777778,
             "#fb9f3a"
            ],
            [
             0.8888888888888888,
             "#fdca26"
            ],
            [
             1,
             "#f0f921"
            ]
           ]
          },
          "colorway": [
           "#636efa",
           "#EF553B",
           "#00cc96",
           "#ab63fa",
           "#FFA15A",
           "#19d3f3",
           "#FF6692",
           "#B6E880",
           "#FF97FF",
           "#FECB52"
          ],
          "font": {
           "color": "#2a3f5f"
          },
          "geo": {
           "bgcolor": "white",
           "lakecolor": "white",
           "landcolor": "#E5ECF6",
           "showlakes": true,
           "showland": true,
           "subunitcolor": "white"
          },
          "hoverlabel": {
           "align": "left"
          },
          "hovermode": "closest",
          "mapbox": {
           "style": "light"
          },
          "paper_bgcolor": "white",
          "plot_bgcolor": "#E5ECF6",
          "polar": {
           "angularaxis": {
            "gridcolor": "white",
            "linecolor": "white",
            "ticks": ""
           },
           "bgcolor": "#E5ECF6",
           "radialaxis": {
            "gridcolor": "white",
            "linecolor": "white",
            "ticks": ""
           }
          },
          "scene": {
           "xaxis": {
            "backgroundcolor": "#E5ECF6",
            "gridcolor": "white",
            "gridwidth": 2,
            "linecolor": "white",
            "showbackground": true,
            "ticks": "",
            "zerolinecolor": "white"
           },
           "yaxis": {
            "backgroundcolor": "#E5ECF6",
            "gridcolor": "white",
            "gridwidth": 2,
            "linecolor": "white",
            "showbackground": true,
            "ticks": "",
            "zerolinecolor": "white"
           },
           "zaxis": {
            "backgroundcolor": "#E5ECF6",
            "gridcolor": "white",
            "gridwidth": 2,
            "linecolor": "white",
            "showbackground": true,
            "ticks": "",
            "zerolinecolor": "white"
           }
          },
          "shapedefaults": {
           "line": {
            "color": "#2a3f5f"
           }
          },
          "ternary": {
           "aaxis": {
            "gridcolor": "white",
            "linecolor": "white",
            "ticks": ""
           },
           "baxis": {
            "gridcolor": "white",
            "linecolor": "white",
            "ticks": ""
           },
           "bgcolor": "#E5ECF6",
           "caxis": {
            "gridcolor": "white",
            "linecolor": "white",
            "ticks": ""
           }
          },
          "title": {
           "x": 0.05
          },
          "xaxis": {
           "automargin": true,
           "gridcolor": "white",
           "linecolor": "white",
           "ticks": "",
           "title": {
            "standoff": 15
           },
           "zerolinecolor": "white",
           "zerolinewidth": 2
          },
          "yaxis": {
           "automargin": true,
           "gridcolor": "white",
           "linecolor": "white",
           "ticks": "",
           "title": {
            "standoff": 15
           },
           "zerolinecolor": "white",
           "zerolinewidth": 2
          }
         }
        },
        "xaxis": {
         "anchor": "y",
         "domain": [
          0,
          1
         ],
         "title": {
          "text": "arrival_month"
         }
        },
        "yaxis": {
         "anchor": "x",
         "domain": [
          0,
          1
         ],
         "title": {
          "text": "count"
         }
        }
       }
      }
     },
     "metadata": {},
     "output_type": "display_data"
    }
   ],
   "source": [
    "customer_reservations.groupBy(\"arrival_month\").agg(count(\"*\").alias(\"count\")).sort(\"arrival_month\").plot.line(x=\"arrival_month\", y=\"count\")"
   ]
  },
  {
   "cell_type": "markdown",
   "id": "33899152",
   "metadata": {},
   "source": [
    "We can also see what the lead times of customers are."
   ]
  },
  {
   "cell_type": "code",
   "execution_count": 315,
   "id": "5decd233",
   "metadata": {},
   "outputs": [
    {
     "data": {
      "application/vnd.plotly.v1+json": {
       "config": {
        "plotlyServerURL": "https://plot.ly"
       },
       "data": [
        {
         "hovertemplate": "variable=lead_time<br>value=%{text}<br>count=%{y}",
         "name": "lead_time",
         "text": [
          "[0.0, 44.3)",
          "[44.3, 88.6)",
          "[88.6, 132.9)",
          "[132.9, 177.2)",
          "[177.2, 221.5)",
          "[221.5, 265.8)",
          "[265.8, 310.1)",
          "[310.1, 354.4)",
          "[354.4, 398.7)",
          "[398.7, 443.0]"
         ],
         "type": "bar",
         "x": [
          22.15,
          66.44999999999999,
          110.74999999999999,
          155.04999999999998,
          199.35,
          243.64999999999998,
          287.94999999999993,
          332.25,
          376.54999999999995,
          420.85
         ],
         "y": {
          "bdata": "uz0tHC8SCAzNCLkEIgXjAaMAZgA=",
          "dtype": "i2"
         }
        }
       ],
       "layout": {
        "barmode": "stack",
        "template": {
         "data": {
          "bar": [
           {
            "error_x": {
             "color": "#2a3f5f"
            },
            "error_y": {
             "color": "#2a3f5f"
            },
            "marker": {
             "line": {
              "color": "#E5ECF6",
              "width": 0.5
             },
             "pattern": {
              "fillmode": "overlay",
              "size": 10,
              "solidity": 0.2
             }
            },
            "type": "bar"
           }
          ],
          "barpolar": [
           {
            "marker": {
             "line": {
              "color": "#E5ECF6",
              "width": 0.5
             },
             "pattern": {
              "fillmode": "overlay",
              "size": 10,
              "solidity": 0.2
             }
            },
            "type": "barpolar"
           }
          ],
          "carpet": [
           {
            "aaxis": {
             "endlinecolor": "#2a3f5f",
             "gridcolor": "white",
             "linecolor": "white",
             "minorgridcolor": "white",
             "startlinecolor": "#2a3f5f"
            },
            "baxis": {
             "endlinecolor": "#2a3f5f",
             "gridcolor": "white",
             "linecolor": "white",
             "minorgridcolor": "white",
             "startlinecolor": "#2a3f5f"
            },
            "type": "carpet"
           }
          ],
          "choropleth": [
           {
            "colorbar": {
             "outlinewidth": 0,
             "ticks": ""
            },
            "type": "choropleth"
           }
          ],
          "contour": [
           {
            "colorbar": {
             "outlinewidth": 0,
             "ticks": ""
            },
            "colorscale": [
             [
              0,
              "#0d0887"
             ],
             [
              0.1111111111111111,
              "#46039f"
             ],
             [
              0.2222222222222222,
              "#7201a8"
             ],
             [
              0.3333333333333333,
              "#9c179e"
             ],
             [
              0.4444444444444444,
              "#bd3786"
             ],
             [
              0.5555555555555556,
              "#d8576b"
             ],
             [
              0.6666666666666666,
              "#ed7953"
             ],
             [
              0.7777777777777778,
              "#fb9f3a"
             ],
             [
              0.8888888888888888,
              "#fdca26"
             ],
             [
              1,
              "#f0f921"
             ]
            ],
            "type": "contour"
           }
          ],
          "contourcarpet": [
           {
            "colorbar": {
             "outlinewidth": 0,
             "ticks": ""
            },
            "type": "contourcarpet"
           }
          ],
          "heatmap": [
           {
            "colorbar": {
             "outlinewidth": 0,
             "ticks": ""
            },
            "colorscale": [
             [
              0,
              "#0d0887"
             ],
             [
              0.1111111111111111,
              "#46039f"
             ],
             [
              0.2222222222222222,
              "#7201a8"
             ],
             [
              0.3333333333333333,
              "#9c179e"
             ],
             [
              0.4444444444444444,
              "#bd3786"
             ],
             [
              0.5555555555555556,
              "#d8576b"
             ],
             [
              0.6666666666666666,
              "#ed7953"
             ],
             [
              0.7777777777777778,
              "#fb9f3a"
             ],
             [
              0.8888888888888888,
              "#fdca26"
             ],
             [
              1,
              "#f0f921"
             ]
            ],
            "type": "heatmap"
           }
          ],
          "histogram": [
           {
            "marker": {
             "pattern": {
              "fillmode": "overlay",
              "size": 10,
              "solidity": 0.2
             }
            },
            "type": "histogram"
           }
          ],
          "histogram2d": [
           {
            "colorbar": {
             "outlinewidth": 0,
             "ticks": ""
            },
            "colorscale": [
             [
              0,
              "#0d0887"
             ],
             [
              0.1111111111111111,
              "#46039f"
             ],
             [
              0.2222222222222222,
              "#7201a8"
             ],
             [
              0.3333333333333333,
              "#9c179e"
             ],
             [
              0.4444444444444444,
              "#bd3786"
             ],
             [
              0.5555555555555556,
              "#d8576b"
             ],
             [
              0.6666666666666666,
              "#ed7953"
             ],
             [
              0.7777777777777778,
              "#fb9f3a"
             ],
             [
              0.8888888888888888,
              "#fdca26"
             ],
             [
              1,
              "#f0f921"
             ]
            ],
            "type": "histogram2d"
           }
          ],
          "histogram2dcontour": [
           {
            "colorbar": {
             "outlinewidth": 0,
             "ticks": ""
            },
            "colorscale": [
             [
              0,
              "#0d0887"
             ],
             [
              0.1111111111111111,
              "#46039f"
             ],
             [
              0.2222222222222222,
              "#7201a8"
             ],
             [
              0.3333333333333333,
              "#9c179e"
             ],
             [
              0.4444444444444444,
              "#bd3786"
             ],
             [
              0.5555555555555556,
              "#d8576b"
             ],
             [
              0.6666666666666666,
              "#ed7953"
             ],
             [
              0.7777777777777778,
              "#fb9f3a"
             ],
             [
              0.8888888888888888,
              "#fdca26"
             ],
             [
              1,
              "#f0f921"
             ]
            ],
            "type": "histogram2dcontour"
           }
          ],
          "mesh3d": [
           {
            "colorbar": {
             "outlinewidth": 0,
             "ticks": ""
            },
            "type": "mesh3d"
           }
          ],
          "parcoords": [
           {
            "line": {
             "colorbar": {
              "outlinewidth": 0,
              "ticks": ""
             }
            },
            "type": "parcoords"
           }
          ],
          "pie": [
           {
            "automargin": true,
            "type": "pie"
           }
          ],
          "scatter": [
           {
            "fillpattern": {
             "fillmode": "overlay",
             "size": 10,
             "solidity": 0.2
            },
            "type": "scatter"
           }
          ],
          "scatter3d": [
           {
            "line": {
             "colorbar": {
              "outlinewidth": 0,
              "ticks": ""
             }
            },
            "marker": {
             "colorbar": {
              "outlinewidth": 0,
              "ticks": ""
             }
            },
            "type": "scatter3d"
           }
          ],
          "scattercarpet": [
           {
            "marker": {
             "colorbar": {
              "outlinewidth": 0,
              "ticks": ""
             }
            },
            "type": "scattercarpet"
           }
          ],
          "scattergeo": [
           {
            "marker": {
             "colorbar": {
              "outlinewidth": 0,
              "ticks": ""
             }
            },
            "type": "scattergeo"
           }
          ],
          "scattergl": [
           {
            "marker": {
             "colorbar": {
              "outlinewidth": 0,
              "ticks": ""
             }
            },
            "type": "scattergl"
           }
          ],
          "scattermap": [
           {
            "marker": {
             "colorbar": {
              "outlinewidth": 0,
              "ticks": ""
             }
            },
            "type": "scattermap"
           }
          ],
          "scattermapbox": [
           {
            "marker": {
             "colorbar": {
              "outlinewidth": 0,
              "ticks": ""
             }
            },
            "type": "scattermapbox"
           }
          ],
          "scatterpolar": [
           {
            "marker": {
             "colorbar": {
              "outlinewidth": 0,
              "ticks": ""
             }
            },
            "type": "scatterpolar"
           }
          ],
          "scatterpolargl": [
           {
            "marker": {
             "colorbar": {
              "outlinewidth": 0,
              "ticks": ""
             }
            },
            "type": "scatterpolargl"
           }
          ],
          "scatterternary": [
           {
            "marker": {
             "colorbar": {
              "outlinewidth": 0,
              "ticks": ""
             }
            },
            "type": "scatterternary"
           }
          ],
          "surface": [
           {
            "colorbar": {
             "outlinewidth": 0,
             "ticks": ""
            },
            "colorscale": [
             [
              0,
              "#0d0887"
             ],
             [
              0.1111111111111111,
              "#46039f"
             ],
             [
              0.2222222222222222,
              "#7201a8"
             ],
             [
              0.3333333333333333,
              "#9c179e"
             ],
             [
              0.4444444444444444,
              "#bd3786"
             ],
             [
              0.5555555555555556,
              "#d8576b"
             ],
             [
              0.6666666666666666,
              "#ed7953"
             ],
             [
              0.7777777777777778,
              "#fb9f3a"
             ],
             [
              0.8888888888888888,
              "#fdca26"
             ],
             [
              1,
              "#f0f921"
             ]
            ],
            "type": "surface"
           }
          ],
          "table": [
           {
            "cells": {
             "fill": {
              "color": "#EBF0F8"
             },
             "line": {
              "color": "white"
             }
            },
            "header": {
             "fill": {
              "color": "#C8D4E3"
             },
             "line": {
              "color": "white"
             }
            },
            "type": "table"
           }
          ]
         },
         "layout": {
          "annotationdefaults": {
           "arrowcolor": "#2a3f5f",
           "arrowhead": 0,
           "arrowwidth": 1
          },
          "autotypenumbers": "strict",
          "coloraxis": {
           "colorbar": {
            "outlinewidth": 0,
            "ticks": ""
           }
          },
          "colorscale": {
           "diverging": [
            [
             0,
             "#8e0152"
            ],
            [
             0.1,
             "#c51b7d"
            ],
            [
             0.2,
             "#de77ae"
            ],
            [
             0.3,
             "#f1b6da"
            ],
            [
             0.4,
             "#fde0ef"
            ],
            [
             0.5,
             "#f7f7f7"
            ],
            [
             0.6,
             "#e6f5d0"
            ],
            [
             0.7,
             "#b8e186"
            ],
            [
             0.8,
             "#7fbc41"
            ],
            [
             0.9,
             "#4d9221"
            ],
            [
             1,
             "#276419"
            ]
           ],
           "sequential": [
            [
             0,
             "#0d0887"
            ],
            [
             0.1111111111111111,
             "#46039f"
            ],
            [
             0.2222222222222222,
             "#7201a8"
            ],
            [
             0.3333333333333333,
             "#9c179e"
            ],
            [
             0.4444444444444444,
             "#bd3786"
            ],
            [
             0.5555555555555556,
             "#d8576b"
            ],
            [
             0.6666666666666666,
             "#ed7953"
            ],
            [
             0.7777777777777778,
             "#fb9f3a"
            ],
            [
             0.8888888888888888,
             "#fdca26"
            ],
            [
             1,
             "#f0f921"
            ]
           ],
           "sequentialminus": [
            [
             0,
             "#0d0887"
            ],
            [
             0.1111111111111111,
             "#46039f"
            ],
            [
             0.2222222222222222,
             "#7201a8"
            ],
            [
             0.3333333333333333,
             "#9c179e"
            ],
            [
             0.4444444444444444,
             "#bd3786"
            ],
            [
             0.5555555555555556,
             "#d8576b"
            ],
            [
             0.6666666666666666,
             "#ed7953"
            ],
            [
             0.7777777777777778,
             "#fb9f3a"
            ],
            [
             0.8888888888888888,
             "#fdca26"
            ],
            [
             1,
             "#f0f921"
            ]
           ]
          },
          "colorway": [
           "#636efa",
           "#EF553B",
           "#00cc96",
           "#ab63fa",
           "#FFA15A",
           "#19d3f3",
           "#FF6692",
           "#B6E880",
           "#FF97FF",
           "#FECB52"
          ],
          "font": {
           "color": "#2a3f5f"
          },
          "geo": {
           "bgcolor": "white",
           "lakecolor": "white",
           "landcolor": "#E5ECF6",
           "showlakes": true,
           "showland": true,
           "subunitcolor": "white"
          },
          "hoverlabel": {
           "align": "left"
          },
          "hovermode": "closest",
          "mapbox": {
           "style": "light"
          },
          "paper_bgcolor": "white",
          "plot_bgcolor": "#E5ECF6",
          "polar": {
           "angularaxis": {
            "gridcolor": "white",
            "linecolor": "white",
            "ticks": ""
           },
           "bgcolor": "#E5ECF6",
           "radialaxis": {
            "gridcolor": "white",
            "linecolor": "white",
            "ticks": ""
           }
          },
          "scene": {
           "xaxis": {
            "backgroundcolor": "#E5ECF6",
            "gridcolor": "white",
            "gridwidth": 2,
            "linecolor": "white",
            "showbackground": true,
            "ticks": "",
            "zerolinecolor": "white"
           },
           "yaxis": {
            "backgroundcolor": "#E5ECF6",
            "gridcolor": "white",
            "gridwidth": 2,
            "linecolor": "white",
            "showbackground": true,
            "ticks": "",
            "zerolinecolor": "white"
           },
           "zaxis": {
            "backgroundcolor": "#E5ECF6",
            "gridcolor": "white",
            "gridwidth": 2,
            "linecolor": "white",
            "showbackground": true,
            "ticks": "",
            "zerolinecolor": "white"
           }
          },
          "shapedefaults": {
           "line": {
            "color": "#2a3f5f"
           }
          },
          "ternary": {
           "aaxis": {
            "gridcolor": "white",
            "linecolor": "white",
            "ticks": ""
           },
           "baxis": {
            "gridcolor": "white",
            "linecolor": "white",
            "ticks": ""
           },
           "bgcolor": "#E5ECF6",
           "caxis": {
            "gridcolor": "white",
            "linecolor": "white",
            "ticks": ""
           }
          },
          "title": {
           "x": 0.05
          },
          "xaxis": {
           "automargin": true,
           "gridcolor": "white",
           "linecolor": "white",
           "ticks": "",
           "title": {
            "standoff": 15
           },
           "zerolinecolor": "white",
           "zerolinewidth": 2
          },
          "yaxis": {
           "automargin": true,
           "gridcolor": "white",
           "linecolor": "white",
           "ticks": "",
           "title": {
            "standoff": 15
           },
           "zerolinecolor": "white",
           "zerolinewidth": 2
          }
         }
        },
        "xaxis": {
         "title": {
          "text": "value"
         }
        },
        "yaxis": {
         "title": {
          "text": "count"
         }
        }
       }
      }
     },
     "metadata": {},
     "output_type": "display_data"
    }
   ],
   "source": [
    "customer_reservations.select(\"lead_time\").plot.hist(column=\"lead_time\")"
   ]
  },
  {
   "cell_type": "markdown",
   "id": "653583e0",
   "metadata": {},
   "source": [
    "From the above, we can see that it heavily skewed, showing that most people book close to the date they are planning to stay."
   ]
  },
  {
   "cell_type": "markdown",
   "id": "73f890ba",
   "metadata": {},
   "source": [
    "Here we can see what the most popular market segments are. We find that there are five segments, with online being the most popular, offline being the next most, and the rest far below."
   ]
  },
  {
   "cell_type": "code",
   "execution_count": 316,
   "id": "0efed1c7",
   "metadata": {},
   "outputs": [
    {
     "data": {
      "application/vnd.plotly.v1+json": {
       "config": {
        "plotlyServerURL": "https://plot.ly"
       },
       "data": [
        {
         "hovertemplate": "market_segment_type=%{x}<br>count=%{y}<extra></extra>",
         "legendgroup": "",
         "marker": {
          "color": "#636efa",
          "pattern": {
           "shape": ""
          }
         },
         "name": "",
         "orientation": "v",
         "showlegend": false,
         "textposition": "auto",
         "type": "bar",
         "x": [
          "Complementary",
          "Aviation",
          "Corporate",
          "Online",
          "Offline"
         ],
         "xaxis": "x",
         "y": {
          "bdata": "hwF9AOEHrlogKQ==",
          "dtype": "i2"
         },
         "yaxis": "y"
        }
       ],
       "layout": {
        "barmode": "relative",
        "legend": {
         "tracegroupgap": 0
        },
        "margin": {
         "t": 60
        },
        "template": {
         "data": {
          "bar": [
           {
            "error_x": {
             "color": "#2a3f5f"
            },
            "error_y": {
             "color": "#2a3f5f"
            },
            "marker": {
             "line": {
              "color": "#E5ECF6",
              "width": 0.5
             },
             "pattern": {
              "fillmode": "overlay",
              "size": 10,
              "solidity": 0.2
             }
            },
            "type": "bar"
           }
          ],
          "barpolar": [
           {
            "marker": {
             "line": {
              "color": "#E5ECF6",
              "width": 0.5
             },
             "pattern": {
              "fillmode": "overlay",
              "size": 10,
              "solidity": 0.2
             }
            },
            "type": "barpolar"
           }
          ],
          "carpet": [
           {
            "aaxis": {
             "endlinecolor": "#2a3f5f",
             "gridcolor": "white",
             "linecolor": "white",
             "minorgridcolor": "white",
             "startlinecolor": "#2a3f5f"
            },
            "baxis": {
             "endlinecolor": "#2a3f5f",
             "gridcolor": "white",
             "linecolor": "white",
             "minorgridcolor": "white",
             "startlinecolor": "#2a3f5f"
            },
            "type": "carpet"
           }
          ],
          "choropleth": [
           {
            "colorbar": {
             "outlinewidth": 0,
             "ticks": ""
            },
            "type": "choropleth"
           }
          ],
          "contour": [
           {
            "colorbar": {
             "outlinewidth": 0,
             "ticks": ""
            },
            "colorscale": [
             [
              0,
              "#0d0887"
             ],
             [
              0.1111111111111111,
              "#46039f"
             ],
             [
              0.2222222222222222,
              "#7201a8"
             ],
             [
              0.3333333333333333,
              "#9c179e"
             ],
             [
              0.4444444444444444,
              "#bd3786"
             ],
             [
              0.5555555555555556,
              "#d8576b"
             ],
             [
              0.6666666666666666,
              "#ed7953"
             ],
             [
              0.7777777777777778,
              "#fb9f3a"
             ],
             [
              0.8888888888888888,
              "#fdca26"
             ],
             [
              1,
              "#f0f921"
             ]
            ],
            "type": "contour"
           }
          ],
          "contourcarpet": [
           {
            "colorbar": {
             "outlinewidth": 0,
             "ticks": ""
            },
            "type": "contourcarpet"
           }
          ],
          "heatmap": [
           {
            "colorbar": {
             "outlinewidth": 0,
             "ticks": ""
            },
            "colorscale": [
             [
              0,
              "#0d0887"
             ],
             [
              0.1111111111111111,
              "#46039f"
             ],
             [
              0.2222222222222222,
              "#7201a8"
             ],
             [
              0.3333333333333333,
              "#9c179e"
             ],
             [
              0.4444444444444444,
              "#bd3786"
             ],
             [
              0.5555555555555556,
              "#d8576b"
             ],
             [
              0.6666666666666666,
              "#ed7953"
             ],
             [
              0.7777777777777778,
              "#fb9f3a"
             ],
             [
              0.8888888888888888,
              "#fdca26"
             ],
             [
              1,
              "#f0f921"
             ]
            ],
            "type": "heatmap"
           }
          ],
          "histogram": [
           {
            "marker": {
             "pattern": {
              "fillmode": "overlay",
              "size": 10,
              "solidity": 0.2
             }
            },
            "type": "histogram"
           }
          ],
          "histogram2d": [
           {
            "colorbar": {
             "outlinewidth": 0,
             "ticks": ""
            },
            "colorscale": [
             [
              0,
              "#0d0887"
             ],
             [
              0.1111111111111111,
              "#46039f"
             ],
             [
              0.2222222222222222,
              "#7201a8"
             ],
             [
              0.3333333333333333,
              "#9c179e"
             ],
             [
              0.4444444444444444,
              "#bd3786"
             ],
             [
              0.5555555555555556,
              "#d8576b"
             ],
             [
              0.6666666666666666,
              "#ed7953"
             ],
             [
              0.7777777777777778,
              "#fb9f3a"
             ],
             [
              0.8888888888888888,
              "#fdca26"
             ],
             [
              1,
              "#f0f921"
             ]
            ],
            "type": "histogram2d"
           }
          ],
          "histogram2dcontour": [
           {
            "colorbar": {
             "outlinewidth": 0,
             "ticks": ""
            },
            "colorscale": [
             [
              0,
              "#0d0887"
             ],
             [
              0.1111111111111111,
              "#46039f"
             ],
             [
              0.2222222222222222,
              "#7201a8"
             ],
             [
              0.3333333333333333,
              "#9c179e"
             ],
             [
              0.4444444444444444,
              "#bd3786"
             ],
             [
              0.5555555555555556,
              "#d8576b"
             ],
             [
              0.6666666666666666,
              "#ed7953"
             ],
             [
              0.7777777777777778,
              "#fb9f3a"
             ],
             [
              0.8888888888888888,
              "#fdca26"
             ],
             [
              1,
              "#f0f921"
             ]
            ],
            "type": "histogram2dcontour"
           }
          ],
          "mesh3d": [
           {
            "colorbar": {
             "outlinewidth": 0,
             "ticks": ""
            },
            "type": "mesh3d"
           }
          ],
          "parcoords": [
           {
            "line": {
             "colorbar": {
              "outlinewidth": 0,
              "ticks": ""
             }
            },
            "type": "parcoords"
           }
          ],
          "pie": [
           {
            "automargin": true,
            "type": "pie"
           }
          ],
          "scatter": [
           {
            "fillpattern": {
             "fillmode": "overlay",
             "size": 10,
             "solidity": 0.2
            },
            "type": "scatter"
           }
          ],
          "scatter3d": [
           {
            "line": {
             "colorbar": {
              "outlinewidth": 0,
              "ticks": ""
             }
            },
            "marker": {
             "colorbar": {
              "outlinewidth": 0,
              "ticks": ""
             }
            },
            "type": "scatter3d"
           }
          ],
          "scattercarpet": [
           {
            "marker": {
             "colorbar": {
              "outlinewidth": 0,
              "ticks": ""
             }
            },
            "type": "scattercarpet"
           }
          ],
          "scattergeo": [
           {
            "marker": {
             "colorbar": {
              "outlinewidth": 0,
              "ticks": ""
             }
            },
            "type": "scattergeo"
           }
          ],
          "scattergl": [
           {
            "marker": {
             "colorbar": {
              "outlinewidth": 0,
              "ticks": ""
             }
            },
            "type": "scattergl"
           }
          ],
          "scattermap": [
           {
            "marker": {
             "colorbar": {
              "outlinewidth": 0,
              "ticks": ""
             }
            },
            "type": "scattermap"
           }
          ],
          "scattermapbox": [
           {
            "marker": {
             "colorbar": {
              "outlinewidth": 0,
              "ticks": ""
             }
            },
            "type": "scattermapbox"
           }
          ],
          "scatterpolar": [
           {
            "marker": {
             "colorbar": {
              "outlinewidth": 0,
              "ticks": ""
             }
            },
            "type": "scatterpolar"
           }
          ],
          "scatterpolargl": [
           {
            "marker": {
             "colorbar": {
              "outlinewidth": 0,
              "ticks": ""
             }
            },
            "type": "scatterpolargl"
           }
          ],
          "scatterternary": [
           {
            "marker": {
             "colorbar": {
              "outlinewidth": 0,
              "ticks": ""
             }
            },
            "type": "scatterternary"
           }
          ],
          "surface": [
           {
            "colorbar": {
             "outlinewidth": 0,
             "ticks": ""
            },
            "colorscale": [
             [
              0,
              "#0d0887"
             ],
             [
              0.1111111111111111,
              "#46039f"
             ],
             [
              0.2222222222222222,
              "#7201a8"
             ],
             [
              0.3333333333333333,
              "#9c179e"
             ],
             [
              0.4444444444444444,
              "#bd3786"
             ],
             [
              0.5555555555555556,
              "#d8576b"
             ],
             [
              0.6666666666666666,
              "#ed7953"
             ],
             [
              0.7777777777777778,
              "#fb9f3a"
             ],
             [
              0.8888888888888888,
              "#fdca26"
             ],
             [
              1,
              "#f0f921"
             ]
            ],
            "type": "surface"
           }
          ],
          "table": [
           {
            "cells": {
             "fill": {
              "color": "#EBF0F8"
             },
             "line": {
              "color": "white"
             }
            },
            "header": {
             "fill": {
              "color": "#C8D4E3"
             },
             "line": {
              "color": "white"
             }
            },
            "type": "table"
           }
          ]
         },
         "layout": {
          "annotationdefaults": {
           "arrowcolor": "#2a3f5f",
           "arrowhead": 0,
           "arrowwidth": 1
          },
          "autotypenumbers": "strict",
          "coloraxis": {
           "colorbar": {
            "outlinewidth": 0,
            "ticks": ""
           }
          },
          "colorscale": {
           "diverging": [
            [
             0,
             "#8e0152"
            ],
            [
             0.1,
             "#c51b7d"
            ],
            [
             0.2,
             "#de77ae"
            ],
            [
             0.3,
             "#f1b6da"
            ],
            [
             0.4,
             "#fde0ef"
            ],
            [
             0.5,
             "#f7f7f7"
            ],
            [
             0.6,
             "#e6f5d0"
            ],
            [
             0.7,
             "#b8e186"
            ],
            [
             0.8,
             "#7fbc41"
            ],
            [
             0.9,
             "#4d9221"
            ],
            [
             1,
             "#276419"
            ]
           ],
           "sequential": [
            [
             0,
             "#0d0887"
            ],
            [
             0.1111111111111111,
             "#46039f"
            ],
            [
             0.2222222222222222,
             "#7201a8"
            ],
            [
             0.3333333333333333,
             "#9c179e"
            ],
            [
             0.4444444444444444,
             "#bd3786"
            ],
            [
             0.5555555555555556,
             "#d8576b"
            ],
            [
             0.6666666666666666,
             "#ed7953"
            ],
            [
             0.7777777777777778,
             "#fb9f3a"
            ],
            [
             0.8888888888888888,
             "#fdca26"
            ],
            [
             1,
             "#f0f921"
            ]
           ],
           "sequentialminus": [
            [
             0,
             "#0d0887"
            ],
            [
             0.1111111111111111,
             "#46039f"
            ],
            [
             0.2222222222222222,
             "#7201a8"
            ],
            [
             0.3333333333333333,
             "#9c179e"
            ],
            [
             0.4444444444444444,
             "#bd3786"
            ],
            [
             0.5555555555555556,
             "#d8576b"
            ],
            [
             0.6666666666666666,
             "#ed7953"
            ],
            [
             0.7777777777777778,
             "#fb9f3a"
            ],
            [
             0.8888888888888888,
             "#fdca26"
            ],
            [
             1,
             "#f0f921"
            ]
           ]
          },
          "colorway": [
           "#636efa",
           "#EF553B",
           "#00cc96",
           "#ab63fa",
           "#FFA15A",
           "#19d3f3",
           "#FF6692",
           "#B6E880",
           "#FF97FF",
           "#FECB52"
          ],
          "font": {
           "color": "#2a3f5f"
          },
          "geo": {
           "bgcolor": "white",
           "lakecolor": "white",
           "landcolor": "#E5ECF6",
           "showlakes": true,
           "showland": true,
           "subunitcolor": "white"
          },
          "hoverlabel": {
           "align": "left"
          },
          "hovermode": "closest",
          "mapbox": {
           "style": "light"
          },
          "paper_bgcolor": "white",
          "plot_bgcolor": "#E5ECF6",
          "polar": {
           "angularaxis": {
            "gridcolor": "white",
            "linecolor": "white",
            "ticks": ""
           },
           "bgcolor": "#E5ECF6",
           "radialaxis": {
            "gridcolor": "white",
            "linecolor": "white",
            "ticks": ""
           }
          },
          "scene": {
           "xaxis": {
            "backgroundcolor": "#E5ECF6",
            "gridcolor": "white",
            "gridwidth": 2,
            "linecolor": "white",
            "showbackground": true,
            "ticks": "",
            "zerolinecolor": "white"
           },
           "yaxis": {
            "backgroundcolor": "#E5ECF6",
            "gridcolor": "white",
            "gridwidth": 2,
            "linecolor": "white",
            "showbackground": true,
            "ticks": "",
            "zerolinecolor": "white"
           },
           "zaxis": {
            "backgroundcolor": "#E5ECF6",
            "gridcolor": "white",
            "gridwidth": 2,
            "linecolor": "white",
            "showbackground": true,
            "ticks": "",
            "zerolinecolor": "white"
           }
          },
          "shapedefaults": {
           "line": {
            "color": "#2a3f5f"
           }
          },
          "ternary": {
           "aaxis": {
            "gridcolor": "white",
            "linecolor": "white",
            "ticks": ""
           },
           "baxis": {
            "gridcolor": "white",
            "linecolor": "white",
            "ticks": ""
           },
           "bgcolor": "#E5ECF6",
           "caxis": {
            "gridcolor": "white",
            "linecolor": "white",
            "ticks": ""
           }
          },
          "title": {
           "x": 0.05
          },
          "xaxis": {
           "automargin": true,
           "gridcolor": "white",
           "linecolor": "white",
           "ticks": "",
           "title": {
            "standoff": 15
           },
           "zerolinecolor": "white",
           "zerolinewidth": 2
          },
          "yaxis": {
           "automargin": true,
           "gridcolor": "white",
           "linecolor": "white",
           "ticks": "",
           "title": {
            "standoff": 15
           },
           "zerolinecolor": "white",
           "zerolinewidth": 2
          }
         }
        },
        "xaxis": {
         "anchor": "y",
         "domain": [
          0,
          1
         ],
         "title": {
          "text": "market_segment_type"
         }
        },
        "yaxis": {
         "anchor": "x",
         "domain": [
          0,
          1
         ],
         "title": {
          "text": "count"
         }
        }
       }
      }
     },
     "metadata": {},
     "output_type": "display_data"
    }
   ],
   "source": [
    "customer_reservations.groupBy(\"market_segment_type\").agg(count(\"*\").alias(\"count\")).plot.bar(x=\"market_segment_type\", y=\"count\")"
   ]
  },
  {
   "cell_type": "markdown",
   "id": "78514782",
   "metadata": {},
   "source": [
    "There are two parts that need to be aligned. We need to rename `arrival_date` to match `arrival_date_day_of_month` and map the booking status from Canceled and Not_Cancelled to 0 and 1."
   ]
  },
  {
   "cell_type": "code",
   "execution_count": 317,
   "id": "2898bac6",
   "metadata": {},
   "outputs": [
    {
     "data": {
      "text/plain": [
       "DataFrame[Booking_ID: string, stays_in_weekend_nights: int, stays_in_week_nights: int, lead_time: int, arrival_year: int, arrival_month: int, arrival_date: int, market_segment_type: string, avg_price_per_room: double, booking_status: string]"
      ]
     },
     "execution_count": 317,
     "metadata": {},
     "output_type": "execute_result"
    }
   ],
   "source": [
    "customer_reservations.dropna().drop_duplicates()"
   ]
  },
  {
   "cell_type": "code",
   "execution_count": 318,
   "id": "a7eff777",
   "metadata": {},
   "outputs": [
    {
     "name": "stdout",
     "output_type": "stream",
     "text": [
      "root\n",
      " |-- hotel: string (nullable = true)\n",
      " |-- booking_status: integer (nullable = true)\n",
      " |-- lead_time: integer (nullable = true)\n",
      " |-- arrival_year: integer (nullable = true)\n",
      " |-- arrival_month: string (nullable = true)\n",
      " |-- arrival_date_week_number: integer (nullable = true)\n",
      " |-- arrival_date_day_of_month: integer (nullable = true)\n",
      " |-- stays_in_weekend_nights: integer (nullable = true)\n",
      " |-- stays_in_week_nights: integer (nullable = true)\n",
      " |-- market_segment_type: string (nullable = true)\n",
      " |-- country: string (nullable = true)\n",
      " |-- avg_price_per_room: double (nullable = true)\n",
      " |-- email: string (nullable = true)\n",
      "\n"
     ]
    }
   ],
   "source": [
    "hotel_booking.printSchema()"
   ]
  },
  {
   "cell_type": "markdown",
   "id": "6c245b5c",
   "metadata": {},
   "source": [
    "After we align the two datasets, we can merge them and write to a new file."
   ]
  },
  {
   "cell_type": "code",
   "execution_count": 319,
   "id": "8de16579",
   "metadata": {},
   "outputs": [
    {
     "name": "stdout",
     "output_type": "stream",
     "text": [
      "root\n",
      " |-- Booking_ID: string (nullable = true)\n",
      " |-- stays_in_weekend_nights: integer (nullable = true)\n",
      " |-- stays_in_week_nights: integer (nullable = true)\n",
      " |-- lead_time: integer (nullable = true)\n",
      " |-- arrival_year: integer (nullable = true)\n",
      " |-- arrival_month: integer (nullable = true)\n",
      " |-- arrival_date: integer (nullable = true)\n",
      " |-- market_segment_type: string (nullable = true)\n",
      " |-- avg_price_per_room: double (nullable = true)\n",
      " |-- booking_status: string (nullable = true)\n",
      "\n"
     ]
    }
   ],
   "source": [
    "customer_reservations.printSchema()\n",
    "\n",
    "# merged_df = hotel_booking.union(customer_reservations)\n",
    "# with open('merged.csv') as f:\n",
    "#     merged_df.write.csv(f, mode='overwrite')"
   ]
  },
  {
   "cell_type": "markdown",
   "id": "037f2873",
   "metadata": {},
   "source": [
    "## Data Cleaning and EDA for Hotel Booking Dataset"
   ]
  },
  {
   "cell_type": "markdown",
   "id": "2ec51646",
   "metadata": {},
   "source": [
    "### Cleaning"
   ]
  },
  {
   "cell_type": "markdown",
   "id": "c4d467a8",
   "metadata": {},
   "source": [
    "Before we continue with the EDA it is important to clean out any NaN's or null values from the data and any duplicates data points."
   ]
  },
  {
   "cell_type": "code",
   "execution_count": 320,
   "id": "61e72f92",
   "metadata": {},
   "outputs": [],
   "source": [
    "# filter by drop na datapoints and dropping duplicate rows\n",
    "hotel_booking = hotel_booking.dropna().dropDuplicates()"
   ]
  },
  {
   "cell_type": "markdown",
   "id": "b1a51563",
   "metadata": {},
   "source": [
    "### EDA"
   ]
  },
  {
   "cell_type": "markdown",
   "id": "502f8154",
   "metadata": {},
   "source": [
    "In the EDA for the hotel_booking dataset, we're trying to see how many rows and columns the csv file has along with the summary statistics and distribution for each column (individually). There are 13 columns and 78703 rows (78297 rows after cleaning).\n",
    "\n",
    "For categorical variables, we're interested in seeing how many categories there are and the frequency of each. This will be done with a frequency table and a bar chart.\n",
    "\n",
    "For numerical variables, we're interested in seeing the distribution. This will be done by plotting a histogram and printing some summary statistics.\n",
    "\n",
    "At a first glance, there are some columns that seem to mesh together because they record similar events.\n",
    "1. Arrival year, month, day, and week number\n",
    "2. stays_in_week_nights and stays_in_weekend_nights"
   ]
  },
  {
   "cell_type": "code",
   "execution_count": 321,
   "id": "2dad3dec",
   "metadata": {},
   "outputs": [
    {
     "name": "stdout",
     "output_type": "stream",
     "text": [
      "Number of Rows: 78297\n",
      "Number of Columns: 13\n"
     ]
    }
   ],
   "source": [
    "# dimensionality of data\n",
    "num_rows = hotel_booking.count()\n",
    "num_cols = len(hotel_booking.columns)\n",
    "\n",
    "print(f\"Number of Rows: {num_rows}\")\n",
    "print(f\"Number of Columns: {num_cols}\")"
   ]
  },
  {
   "cell_type": "markdown",
   "id": "5d1e5698",
   "metadata": {},
   "source": [
    "#### Hotel Column"
   ]
  },
  {
   "cell_type": "code",
   "execution_count": 322,
   "id": "b2925279",
   "metadata": {},
   "outputs": [
    {
     "data": {
      "image/png": "[encoded data removed]",
      "text/plain": [
       "<Figure size 640x480 with 1 Axes>"
      ]
     },
     "metadata": {},
     "output_type": "display_data"
    },
    {
     "name": "stdout",
     "output_type": "stream",
     "text": [
      "Frequencies of each hotel:\n",
      "          hotel  count\n",
      "0    City Hotel  51801\n",
      "1  Resort Hotel  26496\n"
     ]
    }
   ],
   "source": [
    "# frequency for hotel column\n",
    "hotel_counts = (\n",
    "    hotel_booking\n",
    "    .groupBy(\"hotel\")\n",
    "    .agg(F.count(\"*\").alias(\"count\"))\n",
    ").toPandas()\n",
    "\n",
    "# bar chart\n",
    "plt.bar(hotel_counts[\"hotel\"], hotel_counts[\"count\"], color=\"skyblue\", edgecolor=\"black\")\n",
    "plt.xlabel(\"Hotel\")\n",
    "plt.ylabel(\"Frequency\")\n",
    "plt.title(\"Frequency of each Hotel\")\n",
    "plt.show()\n",
    "\n",
    "# frequency table\n",
    "print(\"Frequencies of each hotel:\")\n",
    "print(hotel_counts)"
   ]
  },
  {
   "cell_type": "markdown",
   "id": "2e19e576",
   "metadata": {},
   "source": [
    "The City Hotel received a lot more bookings (≈52,000) than the Resort Hotel (≈27,000). Used a bar chart here because we're counting the frequencies of categories."
   ]
  },
  {
   "cell_type": "markdown",
   "id": "fd90478f",
   "metadata": {},
   "source": [
    "#### Booking Status Column"
   ]
  },
  {
   "cell_type": "code",
   "execution_count": 323,
   "id": "b41dffcd",
   "metadata": {},
   "outputs": [
    {
     "data": {
      "image/png": "[encoded data removed]",
      "text/plain": [
       "<Figure size 640x480 with 1 Axes>"
      ]
     },
     "metadata": {},
     "output_type": "display_data"
    },
    {
     "name": "stdout",
     "output_type": "stream",
     "text": [
      "Frequencies of Booking Status:\n",
      "   booking_status  count\n",
      "0               1  28422\n",
      "1               0  49875\n"
     ]
    }
   ],
   "source": [
    "# frequency for booking status column\n",
    "booking_status_counts = (\n",
    "    hotel_booking\n",
    "    .groupBy(\"booking_status\")\n",
    "    .agg(F.count(\"*\").alias(\"count\"))\n",
    ").toPandas()\n",
    "\n",
    "# bar chart\n",
    "plt.bar(booking_status_counts[\"booking_status\"], booking_status_counts[\"count\"], color=\"lightcoral\", edgecolor=\"black\")\n",
    "plt.xlabel(\"Booking Status\")\n",
    "plt.ylabel(\"Frequency\")\n",
    "plt.title(\"Frequency of each Booking Status\")\n",
    "plt.show()\n",
    "\n",
    "# frequency table\n",
    "print(\"Frequencies of Booking Status:\")\n",
    "print(booking_status_counts)"
   ]
  },
  {
   "cell_type": "markdown",
   "id": "7341b751",
   "metadata": {},
   "source": [
    "There were more bookings with status 0 (≈50,000) than 1 (≈29,000), indicating that a larger share of bookings were not completed or canceled, while fewer were successful or confirmed. Used a bar chart here because we're counting the frequencies of two categories (0 and 1)."
   ]
  },
  {
   "cell_type": "markdown",
   "id": "14414bfc",
   "metadata": {},
   "source": [
    "#### Lead Time Column"
   ]
  },
  {
   "cell_type": "code",
   "execution_count": 324,
   "id": "b874bc6d",
   "metadata": {},
   "outputs": [
    {
     "data": {
      "image/png": "[encoded data removed]",
      "text/plain": [
       "<Figure size 640x480 with 1 Axes>"
      ]
     },
     "metadata": {},
     "output_type": "display_data"
    }
   ],
   "source": [
    "# histogram of lead time\n",
    "lead_time_pd = hotel_booking.select(\"lead_time\").toPandas()\n",
    "\n",
    "plt.hist(lead_time_pd[\"lead_time\"], bins=10, color=\"darkorange\", edgecolor=\"black\")\n",
    "plt.xlabel(\"Lead Time\")\n",
    "plt.ylabel(\"Frequency\")\n",
    "plt.title(\"Distribution of Lead Time\")\n",
    "\n",
    "plt.show()"
   ]
  },
  {
   "cell_type": "code",
   "execution_count": 325,
   "id": "3f07ba25",
   "metadata": {},
   "outputs": [
    {
     "data": {
      "text/plain": [
       "count    78297.000000\n",
       "mean       101.636883\n",
       "std        106.254128\n",
       "min          0.000000\n",
       "25%         16.000000\n",
       "50%         65.000000\n",
       "75%        158.000000\n",
       "max        737.000000\n",
       "Name: lead_time, dtype: float64"
      ]
     },
     "execution_count": 325,
     "metadata": {},
     "output_type": "execute_result"
    }
   ],
   "source": [
    "# summary statistics\n",
    "lead_time_pd[\"lead_time\"].describe()"
   ]
  },
  {
   "cell_type": "markdown",
   "id": "ca9a005e",
   "metadata": {},
   "source": [
    "The lead time column is numerical and skewed to the right. This is seen in both the histogram of the column's values and in its summary statistics (mean is greater than median with the maximum being far from the 3rd quartile).\n",
    "\n",
    "Here we used a histogram to plot the data because the column is numerical. I wanted to see the distribution of said numerical datapoints."
   ]
  },
  {
   "cell_type": "markdown",
   "id": "4b199387",
   "metadata": {},
   "source": [
    "#### Arrival Date Columns"
   ]
  },
  {
   "cell_type": "code",
   "execution_count": 326,
   "id": "e60358c6",
   "metadata": {},
   "outputs": [
    {
     "data": {
      "image/png": "[encoded data removed]",
      "text/plain": [
       "<Figure size 1200x600 with 1 Axes>"
      ]
     },
     "metadata": {},
     "output_type": "display_data"
    }
   ],
   "source": [
    "# Date time column\n",
    "arrival_date_counts = (\n",
    "    hotel_booking\n",
    "    .groupBy(\"arrival_year\", \"arrival_month\")\n",
    "    .agg(F.count(\"*\").alias(\"count\"))\n",
    "    .orderBy(\"arrival_year\", \"arrival_month\")  # sort by year and month\n",
    ").toPandas()\n",
    "\n",
    "arrival_date_counts[\"arrival_date\"] = pd.to_datetime(\n",
    "    arrival_date_counts[\"arrival_year\"].astype(str) + \"-\" +\n",
    "    arrival_date_counts[\"arrival_month\"].astype(str) + \"-01\"\n",
    ")\n",
    "\n",
    "# Sort by datetime\n",
    "arrival_date_counts = arrival_date_counts.sort_values(\"arrival_date\")\n",
    "\n",
    "# time series plot of number of bookings each month\n",
    "plt.figure(figsize=(12,6))\n",
    "plt.plot(arrival_date_counts[\"arrival_date\"], arrival_date_counts[\"count\"], marker='o')\n",
    "plt.xlabel(\"Arrival Date\")\n",
    "plt.ylabel(\"Number of Bookings\")\n",
    "plt.title(\"Bookings Over Time\")\n",
    "plt.grid(True)\n",
    "plt.show()"
   ]
  },
  {
   "cell_type": "markdown",
   "id": "8e4802f9",
   "metadata": {},
   "source": [
    "At first glance, the number of bookings per month over time looking sporadic. The most noticable features are a sharp increase in bookings from 07/2015 to 09/2015 and a sharp decline and increase from 10/2015 to 03/2016.\n",
    "\n",
    "Used a time series here because the data is here is time related (year, month). It helps plot the amount of bookings in each month listed in the data set. With a time series, we can observe how booking volumes fluctuate across months and years, revealing possible seasonal peaks or drops."
   ]
  },
  {
   "cell_type": "markdown",
   "id": "64c74d92",
   "metadata": {},
   "source": [
    "#### Weekday and Weekend Staying Columns"
   ]
  },
  {
   "cell_type": "code",
   "execution_count": 327,
   "id": "5b9560fa",
   "metadata": {},
   "outputs": [
    {
     "data": {
      "image/png": "[encoded data removed]",
      "text/plain": [
       "<Figure size 640x480 with 1 Axes>"
      ]
     },
     "metadata": {},
     "output_type": "display_data"
    }
   ],
   "source": [
    "# histogram for stays in weekend nights\n",
    "weekends_pd = hotel_booking.select(\"stays_in_weekend_nights\").toPandas()\n",
    "\n",
    "plt.hist(weekends_pd[\"stays_in_weekend_nights\"], color=\"skyblue\", edgecolor=\"black\")\n",
    "plt.xlabel(\"Stays in Weekend Nights\")\n",
    "plt.ylabel(\"Frequency\")\n",
    "plt.title(\"Distribution of Stays in Weekend Nights\")\n",
    "\n",
    "plt.show()"
   ]
  },
  {
   "cell_type": "code",
   "execution_count": 328,
   "id": "fdbe7e96",
   "metadata": {},
   "outputs": [
    {
     "data": {
      "text/plain": [
       "count    78297.000000\n",
       "mean         0.905284\n",
       "std          0.985718\n",
       "min          0.000000\n",
       "25%          0.000000\n",
       "50%          1.000000\n",
       "75%          2.000000\n",
       "max         16.000000\n",
       "Name: stays_in_weekend_nights, dtype: float64"
      ]
     },
     "execution_count": 328,
     "metadata": {},
     "output_type": "execute_result"
    }
   ],
   "source": [
    "# summary statistics\n",
    "weekends_pd[\"stays_in_weekend_nights\"].describe()"
   ]
  },
  {
   "cell_type": "code",
   "execution_count": 329,
   "id": "18f0a18b",
   "metadata": {},
   "outputs": [
    {
     "data": {
      "image/png": "[encoded data removed]",
      "text/plain": [
       "<Figure size 640x480 with 1 Axes>"
      ]
     },
     "metadata": {},
     "output_type": "display_data"
    }
   ],
   "source": [
    "# histogram for stays in week nights\n",
    "weekdays_pd = hotel_booking.select(\"stays_in_week_nights\").toPandas()\n",
    "\n",
    "plt.hist(weekdays_pd[\"stays_in_week_nights\"], color=\"skyblue\", edgecolor=\"black\")\n",
    "plt.xlabel(\"Stays in Week Nights\")\n",
    "plt.ylabel(\"Frequency\")\n",
    "plt.title(\"Distribution of Stays in Week Nights\")\n",
    "\n",
    "plt.show()"
   ]
  },
  {
   "cell_type": "code",
   "execution_count": 330,
   "id": "f2cba6dd",
   "metadata": {},
   "outputs": [
    {
     "data": {
      "text/plain": [
       "count    78297.000000\n",
       "mean         2.449302\n",
       "std          1.858476\n",
       "min          0.000000\n",
       "25%          1.000000\n",
       "50%          2.000000\n",
       "75%          3.000000\n",
       "max         41.000000\n",
       "Name: stays_in_week_nights, dtype: float64"
      ]
     },
     "execution_count": 330,
     "metadata": {},
     "output_type": "execute_result"
    }
   ],
   "source": [
    "# summary statistics\n",
    "weekdays_pd[\"stays_in_week_nights\"].describe()"
   ]
  },
  {
   "cell_type": "markdown",
   "id": "ef45152d",
   "metadata": {},
   "source": [
    "Both columns recording days stays are skewed to the right. The majority of hotel bookings are for a short period of time(~2 days) with some very high data points (>10 days) skewing the data.\n",
    "\n",
    "Both of these columns were numerical, so the histogram was the way to go to see the distribution of said columns."
   ]
  },
  {
   "cell_type": "markdown",
   "id": "3897980f",
   "metadata": {},
   "source": [
    "#### Market Segment Type Column"
   ]
  },
  {
   "cell_type": "code",
   "execution_count": 331,
   "id": "0ad45b7e",
   "metadata": {},
   "outputs": [
    {
     "data": {
      "image/png": "[encoded data removed]",
      "text/plain": [
       "<Figure size 640x480 with 1 Axes>"
      ]
     },
     "metadata": {},
     "output_type": "display_data"
    },
    {
     "name": "stdout",
     "output_type": "stream",
     "text": [
      "Frequencies of Market Type:\n",
      "  market_segment_type  count\n",
      "0           Online TA  33767\n",
      "1       Offline TA/TO  18500\n",
      "2              Groups  13952\n",
      "3              Direct   7848\n",
      "4           Corporate   3576\n",
      "5       Complementary    525\n",
      "6            Aviation    127\n",
      "7           Undefined      2\n"
     ]
    }
   ],
   "source": [
    "# frequency for market column\n",
    "market_counts = (\n",
    "    hotel_booking\n",
    "    .groupBy(\"market_segment_type\")\n",
    "    .agg(F.count(\"*\").alias(\"count\"))\n",
    "    .orderBy(F.desc(\"count\"))\n",
    ").toPandas()\n",
    "\n",
    "# bar chart\n",
    "plt.bar(market_counts[\"market_segment_type\"], market_counts[\"count\"], color=\"lightcoral\", edgecolor=\"black\")\n",
    "plt.xlabel(\"Market Type\")\n",
    "plt.ylabel(\"Frequency\")\n",
    "plt.title(\"Frequency of each Market Type\")\n",
    "plt.xticks(rotation=45, ha=\"right\")\n",
    "plt.show()\n",
    "\n",
    "# frequency table\n",
    "print(\"Frequencies of Market Type:\")\n",
    "print(market_counts)"
   ]
  },
  {
   "cell_type": "markdown",
   "id": "492342ff",
   "metadata": {},
   "source": [
    "Looking at the frequency of each market type, we can see that \"Online TA\" takes up a huge portion of the data. Offline TA/TO and Groups follows behind. Direct and Corporate take up a meager portion of the data points. Complemntary, Aviation, and Undefined barely make up the datapoints.\n",
    "\n",
    "For an EDA here, we want to count the frequencies for each market type in the data. Since the market type variable is categorical, a bar chart was a good choice."
   ]
  },
  {
   "cell_type": "markdown",
   "id": "a69a84c4",
   "metadata": {},
   "source": [
    "#### Country Column"
   ]
  },
  {
   "cell_type": "code",
   "execution_count": 332,
   "id": "d95c5b11",
   "metadata": {},
   "outputs": [
    {
     "data": {
      "image/png": "[encoded data removed]",
      "text/plain": [
       "<Figure size 640x480 with 1 Axes>"
      ]
     },
     "metadata": {},
     "output_type": "display_data"
    },
    {
     "name": "stdout",
     "output_type": "stream",
     "text": [
      "Frequencies of booking in each Country:\n",
      "  country  count\n",
      "0     PRT  35627\n",
      "1     GBR   6941\n",
      "2     FRA   6513\n",
      "3     ESP   5956\n",
      "4     DEU   4389\n",
      "5     ITA   2453\n",
      "6     IRL   1972\n",
      "7     BEL   1344\n",
      "8     NLD   1300\n",
      "9     BRA   1214\n"
     ]
    }
   ],
   "source": [
    "# frequency for market column\n",
    "country_counts = market_counts = (\n",
    "    hotel_booking\n",
    "    .groupBy(\"country\")\n",
    "    .agg(F.count(\"*\").alias(\"count\"))\n",
    "    .orderBy(F.desc(\"count\"))\n",
    "    .limit(10)\n",
    ").toPandas()\n",
    "\n",
    "# bar chart\n",
    "plt.bar(country_counts[\"country\"], country_counts[\"count\"], color=\"lightcoral\", edgecolor=\"black\")\n",
    "plt.xlabel(\"Country\")\n",
    "plt.ylabel(\"Frequency\")\n",
    "plt.title(\"Frequency of booking in each Country\")\n",
    "plt.xticks(rotation=45, ha=\"right\")\n",
    "plt.show()\n",
    "\n",
    "# frequency table\n",
    "print(\"Frequencies of booking in each Country:\")\n",
    "print(country_counts)"
   ]
  },
  {
   "cell_type": "markdown",
   "id": "071d7471",
   "metadata": {},
   "source": [
    "Looking at the top 10 countries our data is coming from, we can see that PRT (Portugal) takes up a huge portion of the data points. With GBR, FRA, ESP, and DEU tailing behind each with frequencies from 4k to 7k. The remaining 5 countries in the top 5 all have frequencies around 1k-2k.\n",
    "\n",
    "For an EDA here, we want to count the frequencies for each country in the data. Since the country variable is categorical, a bar chart was a good choice."
   ]
  },
  {
   "cell_type": "markdown",
   "id": "cb898d79",
   "metadata": {},
   "source": [
    "#### Average Price Column"
   ]
  },
  {
   "cell_type": "code",
   "execution_count": 333,
   "id": "0a71451d",
   "metadata": {},
   "outputs": [
    {
     "data": {
      "image/png": "[encoded data removed]",
      "text/plain": [
       "<Figure size 640x480 with 1 Axes>"
      ]
     },
     "metadata": {},
     "output_type": "display_data"
    }
   ],
   "source": [
    "# histogram of price\n",
    "price_pd = hotel_booking.select(\"avg_price_per_room\").toPandas()\n",
    "\n",
    "plt.hist(price_pd[\"avg_price_per_room\"], bins=10, color=\"skyblue\", edgecolor=\"black\")\n",
    "plt.xlabel(\"Average Price\")\n",
    "plt.ylabel(\"Frequency\")\n",
    "plt.title(\"Distribution of Average Price\")\n",
    "\n",
    "plt.show()"
   ]
  },
  {
   "cell_type": "code",
   "execution_count": 334,
   "id": "b3cb21aa",
   "metadata": {},
   "outputs": [
    {
     "data": {
      "text/plain": [
       "Text(0.5, 1.0, 'Distribution of Average Price')"
      ]
     },
     "execution_count": 334,
     "metadata": {},
     "output_type": "execute_result"
    },
    {
     "data": {
      "image/png": "[encoded data removed]",
      "text/plain": [
       "<Figure size 640x480 with 1 Axes>"
      ]
     },
     "metadata": {},
     "output_type": "display_data"
    }
   ],
   "source": [
    "# boxplot of price\n",
    "plt.boxplot(price_pd[\"avg_price_per_room\"], vert=False)\n",
    "plt.xlabel(\"Average Price\")\n",
    "plt.title(\"Distribution of Average Price\")"
   ]
  },
  {
   "cell_type": "code",
   "execution_count": 335,
   "id": "81e85d4f",
   "metadata": {},
   "outputs": [
    {
     "data": {
      "text/plain": [
       "count    78297.000000\n",
       "mean        95.375317\n",
       "std         48.259226\n",
       "min          0.000000\n",
       "25%         65.000000\n",
       "50%         89.000000\n",
       "75%        117.670000\n",
       "max       5400.000000\n",
       "Name: avg_price_per_room, dtype: float64"
      ]
     },
     "execution_count": 335,
     "metadata": {},
     "output_type": "execute_result"
    }
   ],
   "source": [
    "# summary statistics of price\n",
    "price_pd[\"avg_price_per_room\"].describe()"
   ]
  },
  {
   "cell_type": "markdown",
   "id": "e2265cc3",
   "metadata": {},
   "source": [
    "Most of the data points have average price somewhere below 1k. We can't really view the distribution of this bar because of some really high outliers. To proceed, we're going to only plot points that are not outliers (IQR) to view the distribution of the majority of points."
   ]
  },
  {
   "cell_type": "code",
   "execution_count": 336,
   "id": "a51b63ae",
   "metadata": {},
   "outputs": [
    {
     "data": {
      "image/png": "[encoded data removed]",
      "text/plain": [
       "<Figure size 640x480 with 1 Axes>"
      ]
     },
     "metadata": {},
     "output_type": "display_data"
    }
   ],
   "source": [
    "# bounds to filter outliers\n",
    "quantiles = hotel_booking.approxQuantile(\"avg_price_per_room\", [0.25, 0.75], 0.01)\n",
    "q1 = quantiles[0]\n",
    "q3 = quantiles[1]\n",
    "iqr = q3 - q1\n",
    "\n",
    "lower_bound = q1 - 1.5 * iqr\n",
    "upper_bound = q3 + 1.5 * iqr\n",
    "\n",
    "filtered_prices = hotel_booking.filter(\n",
    "    (F.col(\"avg_price_per_room\") >= lower_bound) &\n",
    "    (F.col(\"avg_price_per_room\") <= upper_bound)\n",
    ").select(\"avg_price_per_room\").toPandas()\n",
    "\n",
    "# histogram of prices w/o big outliers\n",
    "plt.hist(filtered_prices, bins=10, color=\"skyblue\", edgecolor=\"black\")\n",
    "plt.xlabel(\"Average Price\")\n",
    "plt.ylabel(\"Frequency\")\n",
    "plt.title(\"Distribution of Average Price (Outliers Removed)\")\n",
    "plt.show()"
   ]
  },
  {
   "cell_type": "code",
   "execution_count": 337,
   "id": "e3ae5193",
   "metadata": {},
   "outputs": [
    {
     "data": {
      "text/plain": [
       "Text(0.5, 1.0, 'Distribution of Average Price (Outliers Removed)')"
      ]
     },
     "execution_count": 337,
     "metadata": {},
     "output_type": "execute_result"
    },
    {
     "data": {
      "image/png": "[encoded data removed]",
      "text/plain": [
       "<Figure size 640x480 with 1 Axes>"
      ]
     },
     "metadata": {},
     "output_type": "display_data"
    }
   ],
   "source": [
    "# boxplot of prices w/o big outliers\n",
    "plt.boxplot(filtered_prices, vert=False)\n",
    "plt.xlabel(\"Average Price\")\n",
    "plt.title(\"Distribution of Average Price (Outliers Removed)\")"
   ]
  },
  {
   "cell_type": "code",
   "execution_count": 338,
   "id": "f253c25f",
   "metadata": {},
   "outputs": [
    {
     "data": {
      "text/html": [
       "<div>\n",
       "<style scoped>\n",
       "    .dataframe tbody tr th:only-of-type {\n",
       "        vertical-align: middle;\n",
       "    }\n",
       "\n",
       "    .dataframe tbody tr th {\n",
       "        vertical-align: top;\n",
       "    }\n",
       "\n",
       "    .dataframe thead th {\n",
       "        text-align: right;\n",
       "    }\n",
       "</style>\n",
       "<table border=\"1\" class=\"dataframe\">\n",
       "  <thead>\n",
       "    <tr style=\"text-align: right;\">\n",
       "      <th></th>\n",
       "      <th>avg_price_per_room</th>\n",
       "    </tr>\n",
       "  </thead>\n",
       "  <tbody>\n",
       "    <tr>\n",
       "      <th>count</th>\n",
       "      <td>75578.000000</td>\n",
       "    </tr>\n",
       "    <tr>\n",
       "      <th>mean</th>\n",
       "      <td>90.621286</td>\n",
       "    </tr>\n",
       "    <tr>\n",
       "      <th>std</th>\n",
       "      <td>37.061052</td>\n",
       "    </tr>\n",
       "    <tr>\n",
       "      <th>min</th>\n",
       "      <td>0.000000</td>\n",
       "    </tr>\n",
       "    <tr>\n",
       "      <th>25%</th>\n",
       "      <td>65.000000</td>\n",
       "    </tr>\n",
       "    <tr>\n",
       "      <th>50%</th>\n",
       "      <td>87.320000</td>\n",
       "    </tr>\n",
       "    <tr>\n",
       "      <th>75%</th>\n",
       "      <td>114.000000</td>\n",
       "    </tr>\n",
       "    <tr>\n",
       "      <th>max</th>\n",
       "      <td>192.730000</td>\n",
       "    </tr>\n",
       "  </tbody>\n",
       "</table>\n",
       "</div>"
      ],
      "text/plain": [
       "       avg_price_per_room\n",
       "count        75578.000000\n",
       "mean            90.621286\n",
       "std             37.061052\n",
       "min              0.000000\n",
       "25%             65.000000\n",
       "50%             87.320000\n",
       "75%            114.000000\n",
       "max            192.730000"
      ]
     },
     "execution_count": 338,
     "metadata": {},
     "output_type": "execute_result"
    }
   ],
   "source": [
    "# summary statistics w/o big outliers\n",
    "filtered_prices.describe()"
   ]
  },
  {
   "cell_type": "markdown",
   "id": "f32c498c",
   "metadata": {},
   "source": [
    "Comparing the counts of the unfiltered and filtered data, we can see that there are some data points with very high prices. After removing these outliers, we see that the majority of the average price data is between 0 and 200. The histogram slightly resembles a normal distribution.\n",
    "\n",
    "The price column is numerical which makes histograms a good choice. Except in this case, it was not a good choice because of how big some outliers were. It really messed up the bins in the plotted histogram. In a case like this, a boxplot is a much better choice since it uses median and quartiles. With a boxplot, we could view statistics but the majority of the data was concentrated into a very small region.\n",
    "\n",
    "We filtered the data to remove those really large outliers (plus minus 1.5 IQR from Q1 and Q3) so we could see the distribution of the majority of the datapoints. A boxplot was good for showing the quartiles and median of the filtered data while a histogram did a great job at showing the data's shape and distribution."
   ]
  },
  {
   "cell_type": "markdown",
   "id": "8ef255f5",
   "metadata": {},
   "source": [
    "### Hotel Booking EDA Findings and Conclusion"
   ]
  },
  {
   "cell_type": "markdown",
   "id": "4d38e9db",
   "metadata": {},
   "source": [
    "The dataset contains **78,703** rows and **13** columns.\n",
    "\n",
    "Each column was analyzed individually to understand its distribution and frequency.\n",
    "\n",
    "- Categorical variables were explored using frequency tables and bar charts to show the number of categories and their frequencies.\n",
    "- Numerical variables were examined using histograms and summary statistics to show their distributions and central tendencies.\n",
    "\n",
    "**Key Observations:**\n",
    "\n",
    "**1. Hotel Type:**\n",
    "The City Hotel received significantly more bookings (≈52,000) than the Resort Hotel (≈27,000).\n",
    "\n",
    "**2. Booking Status:**\n",
    "There were more bookings with status 0 (≈50,000) than 1 (≈29,000), indicating a larger share of bookings were not completed or canceled.\n",
    "\n",
    "**3. Lead Time:**\n",
    "The lead_time variable is right-skewed. The mean is greater than the median, and the maximum value is far above the third quartile.\n",
    "\n",
    "**4. Arrival Information:**\n",
    "The columns arrival_year, arrival_month, arrival_day, and arrival_week_number record similar events and could potentially be combined for analysis.\n",
    "The number of bookings per month over time appears sporadic, with a sharp increase from July 2015 to September 2015, followed by a decline and subsequent fluctuations between October 2015 and March 2016.\n",
    "\n",
    "**5. Stay Duration:**\n",
    "Both stays_in_week_nights and stays_in_weekend_nights are right-skewed. Most bookings are short (around 2 days), with a few very long stays (>10 days) creating skew.\n",
    "\n",
    "**6. Market Type:**\n",
    "The market_segment_type column is dominated by Online TA, followed by Offline TA/TO and Groups.\n",
    "Direct and Corporate segments are small, while Complementary, Aviation, and Undefined categories appear rarely.\n",
    "\n",
    "**7. Country:**\n",
    "The top 10 countries show that Portugal (PRT) has the most bookings by far.\n",
    "GBR, FRA, ESP, and DEU follow with 4k–7k bookings each, while the remaining top countries range between 1k–2k bookings.\n",
    "\n",
    "**8. Average Price:**\n",
    "Most average prices are below 1,000, but the distribution is heavily affected by extreme outliers.\n",
    "After removing outliers using the IQR method (around 2,000 data points removed), the majority of avg_price_per_room values fall between 0 and 200, forming a roughly normal-shaped distribution."
   ]
  },
  {
   "cell_type": "markdown",
   "id": "852c95ff",
   "metadata": {},
   "source": [
    "## Filtering and Merging the 2 Datasets"
   ]
  },
  {
   "cell_type": "markdown",
   "id": "128af766",
   "metadata": {},
   "source": [
    "Initially, we thought we would have to do a join operation across the 2 datasets along the dates given what we were learning in class last week. However, looking at the dates in both datasets, I saw that the dates were from entirely different years. So, a join was not the way to combine the datasets.\n",
    "\n",
    "We also noticed both datasets had many similar columns (shown in the code below in a list). So, we decided to combine the data from both datasets along these columns after getting their schemas to match. We also kept the primary keys from each datasets(booking id and email) so we didn't end up with a lot of duplicates.\n",
    "\n",
    "Both datasets had different column names for representing the date of the month, so we decided to rename it to \"arrival_day\" in both datasets. There was also some minor renaming because some columns were capitalized but we just wanted a standardized naming convention.\n",
    "\n",
    "From there, there was the issue of data type mismatches. The datasets did not agree on how to represent arrival_month and booking_status. We decided to represent arrival_month as a number and booking_status as a boolean (0 or 1)."
   ]
  },
  {
   "cell_type": "code",
   "execution_count": 339,
   "id": "5854d92a",
   "metadata": {},
   "outputs": [],
   "source": [
    "customer_reservations = customer_reservations.withColumnRenamed(\"arrival_date\", \"arrival_day\")\n",
    "customer_reservations = customer_reservations.withColumnRenamed(\"Booking_ID\",\"booking_id\")\n",
    "hotel_booking = hotel_booking.withColumnRenamed(\"arrival_date_day_of_month\", \"arrival_day\")"
   ]
  },
  {
   "cell_type": "code",
   "execution_count": 340,
   "id": "6b29a787",
   "metadata": {},
   "outputs": [],
   "source": [
    "# apply mapping\n",
    "hotel_booking = hotel_booking.withColumn(\n",
    "    \"arrival_month\",\n",
    "    when(col(\"arrival_month\") == \"January\", 1)\n",
    "    .when(col(\"arrival_month\") == \"Februrary\", 2)\n",
    "    .when(col(\"arrival_month\") == \"March\", 3)\n",
    "    .when(col(\"arrival_month\") == \"April\", 4)\n",
    "    .when(col(\"arrival_month\") == \"May\", 5)\n",
    "    .when(col(\"arrival_month\") == \"June\", 6)\n",
    "    .when(col(\"arrival_month\") == \"July\", 7)\n",
    "    .when(col(\"arrival_month\") == \"August\", 8)\n",
    "    .when(col(\"arrival_month\") == \"September\", 9)\n",
    "    .when(col(\"arrival_month\") == \"October\", 10)\n",
    "    .when(col(\"arrival_month\") == \"November\", 11)\n",
    "    .when(col(\"arrival_month\") == \"December\", 12)\n",
    "    .otherwise(None)\n",
    ")"
   ]
  },
  {
   "cell_type": "code",
   "execution_count": 341,
   "id": "66e5551c",
   "metadata": {},
   "outputs": [],
   "source": [
    "customer_reservations = customer_reservations.withColumn(\n",
    "    \"booking_status\",\n",
    "    when(col(\"booking_status\") == \"Canceled\", 0)\n",
    "    .when(col(\"booking_status\") == \"Not_Canceled\", 1)\n",
    "    .otherwise(None)\n",
    ")"
   ]
  },
  {
   "cell_type": "code",
   "execution_count": 342,
   "id": "eb4328df",
   "metadata": {},
   "outputs": [],
   "source": [
    "customer_reservations.toPandas().to_csv(\"phase1_output_datasets\\\\customer_reservations.csv\")"
   ]
  },
  {
   "cell_type": "code",
   "execution_count": 343,
   "id": "6b88d907",
   "metadata": {},
   "outputs": [],
   "source": [
    "hotel_booking.toPandas().to_csv(\"phase1_output_datasets\\\\hotel_booking_cleaned.csv\")"
   ]
  },
  {
   "cell_type": "code",
   "execution_count": 344,
   "id": "5d5f2859",
   "metadata": {},
   "outputs": [],
   "source": [
    "# shared cols\n",
    "selected_col_names = [\"stays_in_weekend_nights\",\n",
    "    \"stays_in_week_nights\",\n",
    "    \"lead_time\",\n",
    "    \"arrival_year\",\n",
    "    \"arrival_month\",\n",
    "    \"arrival_day\",\n",
    "    \"market_segment_type\",\n",
    "    \"avg_price_per_room\",\n",
    "    \"booking_status\"]\n",
    "\n",
    "# select their unique primary identifiers too\n",
    "customer_reservations = customer_reservations.select(selected_col_names + [\"booking_id\"])\n",
    "hotel_booking = hotel_booking.select(selected_col_names + [\"email\"])\n",
    "\n",
    "# Add missing columns with null values\n",
    "hotel_booking = hotel_booking.withColumn(\"booking_id\", lit(None))\n",
    "customer_reservations = customer_reservations.withColumn(\"email\", lit(None))"
   ]
  },
  {
   "cell_type": "code",
   "execution_count": 345,
   "id": "69c49013",
   "metadata": {},
   "outputs": [],
   "source": [
    "merged_df = hotel_booking.unionByName(customer_reservations)"
   ]
  },
  {
   "cell_type": "code",
   "execution_count": 346,
   "id": "e10ed049",
   "metadata": {},
   "outputs": [],
   "source": [
    "merged_df.toPandas().to_csv(\"phase1_output_datasets\\\\all_bookings.csv\")"
   ]
  }
 ],
 "metadata": {
  "kernelspec": {
   "display_name": "Python 3",
   "language": "python",
   "name": "python3"
  },
  "language_info": {
   "codemirror_mode": {
    "name": "ipython",
    "version": 3
   },
   "file_extension": ".py",
   "mimetype": "text/x-python",
   "name": "python",
   "nbconvert_exporter": "python",
   "pygments_lexer": "ipython3",
   "version": "3.12.10"
  }
 },
 "nbformat": 4,
 "nbformat_minor": 5
}
