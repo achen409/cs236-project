{
 "cells": [
  {
   "cell_type": "markdown",
   "id": "36703c9d",
   "metadata": {},
   "source": [
    "# Phase 2"
   ]
  },
  {
   "cell_type": "markdown",
   "id": "9bdcbbcb",
   "metadata": {},
   "source": [
    "### Imports"
   ]
  },
  {
   "cell_type": "code",
   "execution_count": 7,
   "id": "1142c4a4",
   "metadata": {},
   "outputs": [],
   "source": [
    "from pyspark.sql import SparkSession\n",
    "from pyspark.sql import functions as F"
   ]
  },
  {
   "cell_type": "markdown",
   "id": "b7b3eeee",
   "metadata": {},
   "source": [
    "### Reading Data"
   ]
  },
  {
   "cell_type": "code",
   "execution_count": 6,
   "id": "a61eebda",
   "metadata": {},
   "outputs": [],
   "source": [
    "spark = SparkSession.builder.getOrCreate()\n",
    "\n",
    "hotel_booking = spark.read.csv(\n",
    "    \"../phase1_output_datasets/hotel_booking_cleaned.csv\",\n",
    "    header=True,\n",
    "    inferSchema=True,\n",
    ")\n",
    "customer_reservations = spark.read.csv(\n",
    "    \"../phase1_output_datasets/customer_reservations.csv\",\n",
    "    header=True,\n",
    "    inferSchema=True,\n",
    ")\n",
    "all_bookings = spark.read.csv(\n",
    "    \"../phase1_output_datasets/all_bookings.csv\",\n",
    "    header=True,\n",
    "    inferSchema=True,\n",
    ")"
   ]
  },
  {
   "cell_type": "code",
   "execution_count": 12,
   "id": "1ffb1d2e",
   "metadata": {},
   "outputs": [],
   "source": [
    "cols_to_check = [c for c in all_bookings.columns if c not in (\"email\", \"booking_id\")]\n",
    "\n",
    "all_bookings = all_bookings.na.drop(subset=cols_to_check)"
   ]
  },
  {
   "cell_type": "markdown",
   "id": "aebae272",
   "metadata": {},
   "source": [
    "## 2.1 Spark Analysis"
   ]
  },
  {
   "cell_type": "markdown",
   "id": "4fe990bd",
   "metadata": {},
   "source": [
    "### Cancellation rates\n",
    "Calculate cancellation rates for each month"
   ]
  },
  {
   "cell_type": "code",
   "execution_count": null,
   "id": "622a8ad2",
   "metadata": {},
   "outputs": [
    {
     "name": "stdout",
     "output_type": "stream",
     "text": [
      "+------------+-------------+-------------------+\n",
      "|arrival_year|arrival_month|  cancellation_rate|\n",
      "+------------+-------------+-------------------+\n",
      "|        2015|          7.0| 0.4554670528602462|\n",
      "|        2015|          8.0|0.41217436161980914|\n",
      "|        2015|          9.0| 0.4087332808811959|\n",
      "|        2015|         10.0| 0.3488513925594633|\n",
      "|        2015|         11.0|0.20948275862068966|\n",
      "|        2015|         12.0| 0.3355172413793103|\n",
      "|        2016|          1.0| 0.2514672686230248|\n",
      "|        2016|          3.0| 0.3082706766917293|\n",
      "|        2016|          4.0| 0.3810140636565507|\n",
      "|        2016|          5.0| 0.3503476033662642|\n",
      "|        2016|          6.0|0.39678030303030304|\n",
      "|        2016|          7.0|0.32798769771528996|\n",
      "|        2016|          8.0| 0.3609022556390977|\n",
      "|        2016|          9.0| 0.3756269738064276|\n",
      "|        2016|         10.0| 0.4067357512953368|\n",
      "|        2016|         11.0| 0.3686823104693141|\n",
      "|        2016|         12.0|0.36311389759665624|\n",
      "|        2017|          7.0| 0.6694214876033058|\n",
      "|        2017|          8.0|0.18244575936883628|\n",
      "|        2017|          9.0|0.11036992116434202|\n",
      "+------------+-------------+-------------------+\n",
      "only showing top 20 rows\n"
     ]
    }
   ],
   "source": [
    "cancellation_rates = (all_bookings\n",
    "    .groupBy(\"arrival_year\", \"arrival_month\")\n",
    "    .agg(F.avg(\"booking_status\").alias(\"cancellation_rate\"))\n",
    "    .orderBy(\"arrival_year\", \"arrival_month\"))\n",
    "\n",
    "cancellation_rates.show()"
   ]
  },
  {
   "cell_type": "markdown",
   "id": "d56b5012",
   "metadata": {},
   "source": [
    "### Averages\n",
    "Compute average price and average number of nights for each month"
   ]
  },
  {
   "cell_type": "code",
   "execution_count": 21,
   "id": "a06e6419",
   "metadata": {},
   "outputs": [
    {
     "name": "stdout",
     "output_type": "stream",
     "text": [
      "+------------+-------------+-------------------+\n",
      "|arrival_year|arrival_month|avg_price_per_month|\n",
      "+------------+-------------+-------------------+\n",
      "|        2015|          7.0|   97.8634829833452|\n",
      "|        2015|          8.0| 105.77794686613359|\n",
      "|        2015|          9.0|  94.88720889063715|\n",
      "|        2015|         10.0|  79.07416751372217|\n",
      "|        2015|         11.0|  60.76284051724128|\n",
      "|        2015|         12.0|  74.30403448275867|\n",
      "|        2016|          1.0|  65.15584198645607|\n",
      "|        2016|          3.0|  79.36027777777778|\n",
      "|        2016|          4.0|  89.12324204293117|\n",
      "|        2016|          5.0|   96.4782821075742|\n",
      "|        2016|          6.0| 107.03919507575752|\n",
      "|        2016|          7.0|  125.4895210896312|\n",
      "|        2016|          8.0| 142.85367629600327|\n",
      "|        2016|          9.0| 114.73706669143604|\n",
      "|        2016|         10.0|   95.2871664507771|\n",
      "|        2016|         11.0|  80.93624774368196|\n",
      "|        2016|         12.0|  86.56064263322848|\n",
      "|        2017|          7.0|  84.89046831955922|\n",
      "|        2017|          8.0|   91.0914003944773|\n",
      "|        2017|          9.0| 103.33518496058223|\n",
      "+------------+-------------+-------------------+\n",
      "only showing top 20 rows\n"
     ]
    }
   ],
   "source": [
    "avg_month_price = (all_bookings\n",
    "    .groupBy(\"arrival_year\", \"arrival_month\")\n",
    "    .agg(F.avg(\"avg_price_per_room\").alias(\"avg_price_per_month\"))\n",
    "    .orderBy(\"arrival_year\", \"arrival_month\"))\n",
    "\n",
    "avg_month_price.show()"
   ]
  },
  {
   "cell_type": "code",
   "execution_count": null,
   "id": "a7ad9710",
   "metadata": {},
   "outputs": [
    {
     "name": "stdout",
     "output_type": "stream",
     "text": [
      "+------------+-------------+--------------------+\n",
      "|arrival_year|arrival_month|avg_nights_per_month|\n",
      "+------------+-------------+--------------------+\n",
      "|        2015|          7.0|  3.8664011585807385|\n",
      "|        2015|          8.0|  3.6793912819190093|\n",
      "|        2015|          9.0|   3.466365066876475|\n",
      "|        2015|         10.0|   3.062614352510673|\n",
      "|        2015|         11.0|              3.2875|\n",
      "|        2015|         12.0|                3.05|\n",
      "|        2016|          1.0|  2.7598194130925506|\n",
      "|        2016|          3.0|  3.2439431913116126|\n",
      "|        2016|          4.0|  3.2041080680977054|\n",
      "|        2016|          5.0|  3.2111233077204537|\n",
      "|        2016|          6.0|   3.422727272727273|\n",
      "|        2016|          7.0|   3.935413005272408|\n",
      "|        2016|          8.0|  3.9066086268302334|\n",
      "|        2016|          9.0|   3.457737321196359|\n",
      "|        2016|         10.0|  3.1863665803108807|\n",
      "|        2016|         11.0|   3.148691335740072|\n",
      "|        2016|         12.0|   3.375130616509927|\n",
      "|        2017|          7.0|  3.2947658402203857|\n",
      "|        2017|          8.0|  2.9003944773175543|\n",
      "|        2017|          9.0|  2.6907216494845363|\n",
      "+------------+-------------+--------------------+\n",
      "only showing top 20 rows\n"
     ]
    }
   ],
   "source": [
    "avg_nights = (all_bookings\n",
    "    .withColumn(\n",
    "        \"total_nights\",\n",
    "        F.col(\"stays_in_weekend_nights\") + F.col(\"stays_in_week_nights\")\n",
    "    )\n",
    "    .groupBy(\"arrival_year\", \"arrival_month\")\n",
    "    .agg(F.avg(\"total_nights\").alias(\"avg_nights_per_month\"))\n",
    "    .orderBy(\"arrival_year\", \"arrival_month\"))\n",
    "\n",
    "avg_nights.show()"
   ]
  },
  {
   "cell_type": "markdown",
   "id": "c2fcd957",
   "metadata": {},
   "source": [
    "### Monthly Bookings\n",
    "Count monthly bookings by market segment. In categories, the term TA means Travel Agents and TO means Tour Operators"
   ]
  },
  {
   "cell_type": "code",
   "execution_count": null,
   "id": "beb52fcc",
   "metadata": {},
   "outputs": [
    {
     "name": "stdout",
     "output_type": "stream",
     "text": [
      "+-------------------+------------+\n",
      "|market_segment_type|num_bookings|\n",
      "+-------------------+------------+\n",
      "|             Online|       55477|\n",
      "|            Offline|       28177|\n",
      "|             Groups|       13375|\n",
      "|             Direct|        7335|\n",
      "|          Corporate|        5212|\n",
      "|      Complementary|         886|\n",
      "|           Aviation|         251|\n",
      "|          Undefined|           2|\n",
      "+-------------------+------------+\n",
      "\n"
     ]
    }
   ],
   "source": [
    "# Online TA\n",
    "# Offline TA/TO\n",
    "\n",
    "bookings_by_market = (all_bookings\n",
    "    .groupBy(\"market_segment_type\")\n",
    "    .agg(F.count(\"*\").alias(\"num_bookings\"))\n",
    "    .orderBy(F.desc(\"num_bookings\")))\n",
    "\n",
    "bookings_by_market.show()"
   ]
  },
  {
   "cell_type": "markdown",
   "id": "21d5d403",
   "metadata": {},
   "source": [
    "### Seasonality\n",
    "Identify the most popular month of the year for bookings based on revenue"
   ]
  },
  {
   "cell_type": "code",
   "execution_count": 30,
   "id": "67a8db31",
   "metadata": {},
   "outputs": [
    {
     "name": "stdout",
     "output_type": "stream",
     "text": [
      "+------------+-------------+-------------------+\n",
      "|arrival_year|arrival_month|avg_price_per_month|\n",
      "+------------+-------------+-------------------+\n",
      "|        2016|          8.0| 142.85367629600327|\n",
      "|        2016|          7.0|  125.4895210896312|\n",
      "|        2018|          9.0| 122.90583051991898|\n",
      "|        2018|          8.0| 121.21475884244347|\n",
      "|        2018|          7.0| 115.44809151349233|\n",
      "|        2016|          9.0| 114.73706669143604|\n",
      "|        2018|          5.0| 113.81067744418755|\n",
      "|        2018|          6.0| 111.96650015610335|\n",
      "|        2018|         10.0|  111.4457226792006|\n",
      "|        2016|          6.0| 107.03919507575752|\n",
      "|        2015|          8.0| 105.77794686613359|\n",
      "|        2017|          9.0| 103.33518496058223|\n",
      "|        2018|          4.0| 101.99880116959012|\n",
      "|        2015|          7.0|   97.8634829833452|\n",
      "|        2018|         11.0|  96.53972138877005|\n",
      "|        2016|          5.0|   96.4782821075742|\n",
      "|        2016|         10.0|   95.2871664507771|\n",
      "|        2018|         12.0|  94.94748208313418|\n",
      "|        2015|          9.0|  94.88720889063715|\n",
      "|        2017|         10.0|  92.03200209095665|\n",
      "+------------+-------------+-------------------+\n",
      "only showing top 20 rows\n"
     ]
    }
   ],
   "source": [
    "avg_month_price.orderBy(F.desc(\"avg_price_per_month\")).show()"
   ]
  },
  {
   "cell_type": "code",
   "execution_count": 31,
   "id": "28a4a292",
   "metadata": {},
   "outputs": [
    {
     "name": "stdout",
     "output_type": "stream",
     "text": [
      "+------------+-------------+-------------------+\n",
      "|arrival_year|arrival_month|avg_price_per_month|\n",
      "+------------+-------------+-------------------+\n",
      "|        2016|          8.0| 142.85367629600327|\n",
      "+------------+-------------+-------------------+\n",
      "only showing top 1 row\n"
     ]
    }
   ],
   "source": [
    "avg_month_price.orderBy(F.desc(\"avg_price_per_month\")).show(1)"
   ]
  }
 ],
 "metadata": {
  "kernelspec": {
   "display_name": "Python 3",
   "language": "python",
   "name": "python3"
  },
  "language_info": {
   "codemirror_mode": {
    "name": "ipython",
    "version": 3
   },
   "file_extension": ".py",
   "mimetype": "text/x-python",
   "name": "python",
   "nbconvert_exporter": "python",
   "pygments_lexer": "ipython3",
   "version": "3.12.10"
  }
 },
 "nbformat": 4,
 "nbformat_minor": 5
}
