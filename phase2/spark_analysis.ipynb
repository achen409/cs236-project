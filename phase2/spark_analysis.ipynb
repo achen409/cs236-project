{
 "cells": [
  {
   "cell_type": "markdown",
   "id": "36703c9d",
   "metadata": {},
   "source": [
    "# Phase 2"
   ]
  },
  {
   "cell_type": "markdown",
   "id": "9bdcbbcb",
   "metadata": {},
   "source": [
    "### Imports"
   ]
  },
  {
   "cell_type": "code",
   "execution_count": 1,
   "id": "1142c4a4",
   "metadata": {},
   "outputs": [],
   "source": [
    "from pyspark.sql import SparkSession"
   ]
  },
  {
   "cell_type": "markdown",
   "id": "b7b3eeee",
   "metadata": {},
   "source": [
    "### Reading Data"
   ]
  },
  {
   "cell_type": "code",
   "execution_count": 6,
   "id": "a61eebda",
   "metadata": {},
   "outputs": [],
   "source": [
    "spark = SparkSession.builder.getOrCreate()\n",
    "\n",
    "hotel_booking = spark.read.csv(\n",
    "    \"../phase1_output_datasets/hotel_booking_cleaned.csv\",\n",
    "    header=True,\n",
    "    inferSchema=True,\n",
    ")\n",
    "customer_reservations = spark.read.csv(\n",
    "    \"../phase1_output_datasets/customer_reservations.csv\",\n",
    "    header=True,\n",
    "    inferSchema=True,\n",
    ")\n",
    "all_bookings = spark.read.csv(\n",
    "    \"../phase1_output_datasets/all_bookings.csv\",\n",
    "    header=True,\n",
    "    inferSchema=True,\n",
    ")"
   ]
  },
  {
   "cell_type": "markdown",
   "id": "aebae272",
   "metadata": {},
   "source": [
    "## 2.1 Spark Analysis"
   ]
  },
  {
   "cell_type": "markdown",
   "id": "4fe990bd",
   "metadata": {},
   "source": [
    "### Cancellation rates\n",
    "Calculate cancellation rates for each month"
   ]
  },
  {
   "cell_type": "code",
   "execution_count": null,
   "id": "622a8ad2",
   "metadata": {},
   "outputs": [],
   "source": []
  },
  {
   "cell_type": "markdown",
   "id": "d56b5012",
   "metadata": {},
   "source": [
    "### Averages\n",
    "Compute average price and average number of nights for each month"
   ]
  },
  {
   "cell_type": "code",
   "execution_count": null,
   "id": "a06e6419",
   "metadata": {},
   "outputs": [],
   "source": []
  },
  {
   "cell_type": "markdown",
   "id": "c2fcd957",
   "metadata": {},
   "source": [
    "### Monthly Bookings\n",
    "Count monthly bookings by market segment. In categories, the term TA means Travel Agents and TO means Tour Operators"
   ]
  },
  {
   "cell_type": "code",
   "execution_count": null,
   "id": "beb52fcc",
   "metadata": {},
   "outputs": [],
   "source": []
  },
  {
   "cell_type": "markdown",
   "id": "21d5d403",
   "metadata": {},
   "source": [
    "### Seasonality\n",
    "Identify the most popular month of the year for bookings based on revenue"
   ]
  },
  {
   "cell_type": "code",
   "execution_count": null,
   "id": "67a8db31",
   "metadata": {},
   "outputs": [],
   "source": []
  }
 ],
 "metadata": {
  "kernelspec": {
   "display_name": "Python 3",
   "language": "python",
   "name": "python3"
  },
  "language_info": {
   "codemirror_mode": {
    "name": "ipython",
    "version": 3
   },
   "file_extension": ".py",
   "mimetype": "text/x-python",
   "name": "python",
   "nbconvert_exporter": "python",
   "pygments_lexer": "ipython3",
   "version": "3.12.10"
  }
 },
 "nbformat": 4,
 "nbformat_minor": 5
}
