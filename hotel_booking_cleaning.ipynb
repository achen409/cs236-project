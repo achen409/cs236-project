{
 "cells": [
  {
   "cell_type": "markdown",
   "id": "aa7c70ef",
   "metadata": {},
   "source": [
    "## Data Cleaning and EDA for Hotel Booking Dataset"
   ]
  },
  {
   "cell_type": "code",
   "execution_count": 15,
   "id": "1c54dfdd",
   "metadata": {},
   "outputs": [],
   "source": [
    "import sys\n",
    "import numpy as np\n",
    "import pandas as pd\n",
    "import matplotlib as plt\n",
    "import os\n",
    "\n",
    "from pyspark.sql import SparkSession"
   ]
  },
  {
   "cell_type": "code",
   "execution_count": 16,
   "id": "e280b1ee",
   "metadata": {},
   "outputs": [],
   "source": [
    "# remove any old spark vars remaining\n",
    "os.environ.pop(\"SPARK_MASTER\", None)\n",
    "os.environ[\"PYSPARK_SUBMIT_ARGS\"] = \"--master local[*] pyspark-shell\"\n",
    "\n",
    "# stop spark sessions remaining\n",
    "try:\n",
    "    from pyspark.sql import SparkSession\n",
    "    spark = SparkSession.getActiveSession()\n",
    "    if spark is not None:\n",
    "        spark.stop()\n",
    "except Exception as e:\n",
    "    print(\"No active Spark session found.\")"
   ]
  },
  {
   "cell_type": "code",
   "execution_count": 22,
   "id": "f69e5b28",
   "metadata": {},
   "outputs": [],
   "source": [
    "# new spark session that runs locally\n",
    "spark = (\n",
    "    SparkSession.builder\n",
    "    .appName(\"HotelBookingDataCleaning\")\n",
    "    .master(\"local[*]\")\n",
    "    .config(\"spark.driver.host\", \"127.0.0.1\")\n",
    "    .config(\"spark.driver.bindAddress\", \"127.0.0.1\")\n",
    "    .getOrCreate()\n",
    ")\n",
    "\n",
    "hotel_booking = spark.read.csv('datasets/hotel-booking.csv', header=True, inferSchema=True)"
   ]
  },
  {
   "cell_type": "code",
   "execution_count": 26,
   "id": "ddaeb1be",
   "metadata": {},
   "outputs": [
    {
     "name": "stdout",
     "output_type": "stream",
     "text": [
      "root\n",
      " |-- hotel: string (nullable = true)\n",
      " |-- booking_status: integer (nullable = true)\n",
      " |-- lead_time: integer (nullable = true)\n",
      " |-- arrival_year: integer (nullable = true)\n",
      " |-- arrival_month: string (nullable = true)\n",
      " |-- arrival_date_week_number: integer (nullable = true)\n",
      " |-- arrival_date_day_of_month: integer (nullable = true)\n",
      " |-- stays_in_weekend_nights: integer (nullable = true)\n",
      " |-- stays_in_week_nights: integer (nullable = true)\n",
      " |-- market_segment_type: string (nullable = true)\n",
      " |-- country: string (nullable = true)\n",
      " |-- avg_price_per_room: double (nullable = true)\n",
      " |-- email: string (nullable = true)\n",
      "\n"
     ]
    }
   ],
   "source": [
    "hotel_booking.printSchema()"
   ]
  },
  {
   "cell_type": "code",
   "execution_count": 19,
   "id": "4544753a",
   "metadata": {},
   "outputs": [],
   "source": [
    "spark.stop()"
   ]
  }
 ],
 "metadata": {
  "kernelspec": {
   "display_name": "Python 3",
   "language": "python",
   "name": "python3"
  },
  "language_info": {
   "codemirror_mode": {
    "name": "ipython",
    "version": 3
   },
   "file_extension": ".py",
   "mimetype": "text/x-python",
   "name": "python",
   "nbconvert_exporter": "python",
   "pygments_lexer": "ipython3",
   "version": "3.12.10"
  }
 },
 "nbformat": 4,
 "nbformat_minor": 5
}
