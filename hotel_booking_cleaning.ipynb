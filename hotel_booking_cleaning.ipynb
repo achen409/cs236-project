{
 "cells": [
  {
   "cell_type": "markdown",
   "id": "aa7c70ef",
   "metadata": {},
   "source": [
    "## Data Cleaning and EDA for Hotel Booking Dataset"
   ]
  },
  {
   "cell_type": "markdown",
   "id": "4d4dc340",
   "metadata": {},
   "source": [
    "### Imports and Data Loading"
   ]
  },
  {
   "cell_type": "markdown",
   "id": "b3b79d14",
   "metadata": {},
   "source": [
    "#### Imports"
   ]
  },
  {
   "cell_type": "code",
   "execution_count": 10,
   "id": "1c54dfdd",
   "metadata": {},
   "outputs": [],
   "source": [
    "import sys\n",
    "import numpy as np\n",
    "import pandas as pd\n",
    "import matplotlib.pyplot as plt\n",
    "import os\n",
    "\n",
    "from pyspark.sql import SparkSession"
   ]
  },
  {
   "cell_type": "markdown",
   "id": "7daf6df5",
   "metadata": {},
   "source": [
    "#### Spark Initialization"
   ]
  },
  {
   "cell_type": "code",
   "execution_count": 4,
   "id": "e280b1ee",
   "metadata": {},
   "outputs": [],
   "source": [
    "# remove any old spark vars remaining\n",
    "os.environ.pop(\"SPARK_MASTER\", None)\n",
    "os.environ[\"PYSPARK_SUBMIT_ARGS\"] = \"--master local[*] pyspark-shell\"\n",
    "\n",
    "# stop spark sessions remaining\n",
    "try:\n",
    "    from pyspark.sql import SparkSession\n",
    "    spark = SparkSession.getActiveSession()\n",
    "    if spark is not None:\n",
    "        spark.stop()\n",
    "except Exception as e:\n",
    "    print(\"No active Spark session found.\")"
   ]
  },
  {
   "cell_type": "code",
   "execution_count": null,
   "id": "f69e5b28",
   "metadata": {},
   "outputs": [],
   "source": [
    "# new spark session that runs locally\n",
    "spark = (\n",
    "    SparkSession.builder\n",
    "    .appName(\"HotelBookingDataCleaning\")\n",
    "    .master(\"local[*]\")\n",
    "    .config(\"spark.driver.host\", \"127.0.0.1\")\n",
    "    .config(\"spark.driver.bindAddress\", \"127.0.0.1\")\n",
    "    .getOrCreate()\n",
    ")"
   ]
  },
  {
   "cell_type": "markdown",
   "id": "0e5205e1",
   "metadata": {},
   "source": [
    "#### Data Reading and Schema Viewing"
   ]
  },
  {
   "cell_type": "code",
   "execution_count": 6,
   "id": "25585c51",
   "metadata": {},
   "outputs": [],
   "source": [
    "hotel_booking = spark.read.csv('datasets/hotel-booking.csv', header=True, inferSchema=True)"
   ]
  },
  {
   "cell_type": "code",
   "execution_count": 7,
   "id": "ddaeb1be",
   "metadata": {},
   "outputs": [
    {
     "name": "stdout",
     "output_type": "stream",
     "text": [
      "root\n",
      " |-- hotel: string (nullable = true)\n",
      " |-- booking_status: integer (nullable = true)\n",
      " |-- lead_time: integer (nullable = true)\n",
      " |-- arrival_year: integer (nullable = true)\n",
      " |-- arrival_month: string (nullable = true)\n",
      " |-- arrival_date_week_number: integer (nullable = true)\n",
      " |-- arrival_date_day_of_month: integer (nullable = true)\n",
      " |-- stays_in_weekend_nights: integer (nullable = true)\n",
      " |-- stays_in_week_nights: integer (nullable = true)\n",
      " |-- market_segment_type: string (nullable = true)\n",
      " |-- country: string (nullable = true)\n",
      " |-- avg_price_per_room: double (nullable = true)\n",
      " |-- email: string (nullable = true)\n",
      "\n"
     ]
    }
   ],
   "source": [
    "hotel_booking.printSchema()"
   ]
  },
  {
   "cell_type": "markdown",
   "id": "f702efe4",
   "metadata": {},
   "source": [
    "### EDA"
   ]
  },
  {
   "cell_type": "markdown",
   "id": "23c664fd",
   "metadata": {},
   "source": [
    "#### Hotel Column"
   ]
  },
  {
   "cell_type": "code",
   "execution_count": null,
   "id": "407ed1e6",
   "metadata": {},
   "outputs": [
    {
     "name": "stdout",
     "output_type": "stream",
     "text": [
      "+------------+-----+\n",
      "|       hotel|count|\n",
      "+------------+-----+\n",
      "|  City Hotel|51822|\n",
      "|Resort Hotel|26881|\n",
      "+------------+-----+\n",
      "\n"
     ]
    }
   ],
   "source": [
    "hotel_counts = hotel_booking.groupBy(\"hotel\").count()\n",
    "hotel_counts.show()"
   ]
  },
  {
   "cell_type": "code",
   "execution_count": 14,
   "id": "e4a40842",
   "metadata": {},
   "outputs": [
    {
     "data": {
      "image/png": "[encoded data removed]",
      "text/plain": [
       "<Figure size 640x480 with 1 Axes>"
      ]
     },
     "metadata": {},
     "output_type": "display_data"
    }
   ],
   "source": [
    "hotel_counts_pd = hotel_counts.toPandas()\n",
    "\n",
    "plt.bar(hotel_counts_pd[\"hotel\"], hotel_counts_pd[\"count\"])\n",
    "plt.xlabel(\"Hotel\")\n",
    "plt.ylabel(\"Frequency\")\n",
    "plt.title(\"Frequency of each Hotel\")\n",
    "plt.show()"
   ]
  },
  {
   "cell_type": "markdown",
   "id": "b7301975",
   "metadata": {},
   "source": [
    "#### Booking Status Column"
   ]
  },
  {
   "cell_type": "code",
   "execution_count": null,
   "id": "3788872d",
   "metadata": {},
   "outputs": [],
   "source": []
  },
  {
   "cell_type": "markdown",
   "id": "59bb5bcb",
   "metadata": {},
   "source": [
    "#### Lead Time Column"
   ]
  },
  {
   "cell_type": "code",
   "execution_count": null,
   "id": "90db3351",
   "metadata": {},
   "outputs": [],
   "source": []
  },
  {
   "cell_type": "markdown",
   "id": "bf7cc07a",
   "metadata": {},
   "source": [
    "#### Arrival Date Columns"
   ]
  },
  {
   "cell_type": "code",
   "execution_count": null,
   "id": "0f7e2111",
   "metadata": {},
   "outputs": [],
   "source": []
  },
  {
   "cell_type": "markdown",
   "id": "420e692e",
   "metadata": {},
   "source": [
    "#### Weekday and Weekend Staying Columns"
   ]
  },
  {
   "cell_type": "code",
   "execution_count": null,
   "id": "d21d5741",
   "metadata": {},
   "outputs": [],
   "source": []
  },
  {
   "cell_type": "markdown",
   "id": "f313b8b0",
   "metadata": {},
   "source": [
    "#### Market Segment Type Column"
   ]
  },
  {
   "cell_type": "code",
   "execution_count": null,
   "id": "0341f9a0",
   "metadata": {},
   "outputs": [],
   "source": []
  },
  {
   "cell_type": "markdown",
   "id": "94bb9eeb",
   "metadata": {},
   "source": [
    "#### Country Column"
   ]
  },
  {
   "cell_type": "code",
   "execution_count": null,
   "id": "45b1415e",
   "metadata": {},
   "outputs": [],
   "source": []
  },
  {
   "cell_type": "markdown",
   "id": "9ece0d2c",
   "metadata": {},
   "source": [
    "#### Average Price Column"
   ]
  },
  {
   "cell_type": "code",
   "execution_count": null,
   "id": "dedc293a",
   "metadata": {},
   "outputs": [],
   "source": []
  },
  {
   "cell_type": "markdown",
   "id": "30db8040",
   "metadata": {},
   "source": [
    "### Conclusion"
   ]
  },
  {
   "cell_type": "code",
   "execution_count": 19,
   "id": "4544753a",
   "metadata": {},
   "outputs": [],
   "source": [
    "spark.stop()"
   ]
  }
 ],
 "metadata": {
  "kernelspec": {
   "display_name": "Python 3",
   "language": "python",
   "name": "python3"
  },
  "language_info": {
   "codemirror_mode": {
    "name": "ipython",
    "version": 3
   },
   "file_extension": ".py",
   "mimetype": "text/x-python",
   "name": "python",
   "nbconvert_exporter": "python",
   "pygments_lexer": "ipython3",
   "version": "3.12.10"
  }
 },
 "nbformat": 4,
 "nbformat_minor": 5
}
